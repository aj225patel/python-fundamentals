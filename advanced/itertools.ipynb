{
  "nbformat": 4,
  "nbformat_minor": 0,
  "metadata": {
    "colab": {
      "provenance": [],
      "authorship_tag": "ABX9TyMN+ebKYARMsMIesKgZPnhU",
      "include_colab_link": true
    },
    "kernelspec": {
      "name": "python3",
      "display_name": "Python 3"
    },
    "language_info": {
      "name": "python"
    }
  },
  "cells": [
    {
      "cell_type": "markdown",
      "metadata": {
        "id": "view-in-github",
        "colab_type": "text"
      },
      "source": [
        "<a href=\"https://colab.research.google.com/github/aj225patel/python-fundamentals/blob/main/advanced/itertools.ipynb\" target=\"_parent\"><img src=\"https://colab.research.google.com/assets/colab-badge.svg\" alt=\"Open In Colab\"/></a>"
      ]
    },
    {
      "cell_type": "markdown",
      "source": [
        "#**iterttols in Pyhon**\n",
        "\n"
      ],
      "metadata": {
        "id": "eGcAGGxI4Mkd"
      }
    },
    {
      "cell_type": "markdown",
      "source": [
        "## product\n",
        "\n",
        "> Cartesian Product\n",
        "\n"
      ],
      "metadata": {
        "id": "BgBOjJKP5utc"
      }
    },
    {
      "cell_type": "code",
      "execution_count": null,
      "metadata": {
        "id": "kT6rLJeE3kez"
      },
      "outputs": [],
      "source": [
        "from itertools import product"
      ]
    },
    {
      "cell_type": "code",
      "source": [
        "a = [1, 2]\n",
        "b = [3]\n",
        "\n",
        "# It gives cartesian product\n",
        "prod = product(a,b)\n",
        "list(prod)"
      ],
      "metadata": {
        "colab": {
          "base_uri": "https://localhost:8080/"
        },
        "id": "-T-tJBmk3t8p",
        "outputId": "b6d7c0c1-fcef-42bb-b7af-4246a391beb7"
      },
      "execution_count": 5,
      "outputs": [
        {
          "output_type": "execute_result",
          "data": {
            "text/plain": [
              "[(1, 3), (2, 3)]"
            ]
          },
          "metadata": {},
          "execution_count": 5
        }
      ]
    },
    {
      "cell_type": "code",
      "source": [
        "# we can repeat elements two times in cartesian product\n",
        "prod2 = product(a,b, repeat=2)\n",
        "list(prod2)"
      ],
      "metadata": {
        "colab": {
          "base_uri": "https://localhost:8080/"
        },
        "id": "LXP6HFkW6AS1",
        "outputId": "227882f9-1b15-4e3e-a32d-797209f88495"
      },
      "execution_count": 6,
      "outputs": [
        {
          "output_type": "execute_result",
          "data": {
            "text/plain": [
              "[(1, 3, 1, 3), (1, 3, 2, 3), (2, 3, 1, 3), (2, 3, 2, 3)]"
            ]
          },
          "metadata": {},
          "execution_count": 6
        }
      ]
    },
    {
      "cell_type": "markdown",
      "source": [
        "## permutations\n",
        "\n",
        "> All possible arrangements of an input collection **(order of selection matters)**\n",
        "\n"
      ],
      "metadata": {
        "id": "vBVsWUJq65Wf"
      }
    },
    {
      "cell_type": "code",
      "source": [
        "from itertools import permutations"
      ],
      "metadata": {
        "id": "D4pdPnQm69dH"
      },
      "execution_count": 7,
      "outputs": []
    },
    {
      "cell_type": "code",
      "source": [
        "a = [1, 2, 3]\n",
        "\n",
        "per = permutations(a)\n",
        "list(per)"
      ],
      "metadata": {
        "colab": {
          "base_uri": "https://localhost:8080/"
        },
        "id": "MqbMrEPu70AE",
        "outputId": "96dc9d5a-e5fd-4c14-eecf-7cfbb4c6bed4"
      },
      "execution_count": 11,
      "outputs": [
        {
          "output_type": "execute_result",
          "data": {
            "text/plain": [
              "[(1, 2, 3), (1, 3, 2), (2, 1, 3), (2, 3, 1), (3, 1, 2), (3, 2, 1)]"
            ]
          },
          "metadata": {},
          "execution_count": 11
        }
      ]
    },
    {
      "cell_type": "code",
      "source": [
        "# all permutations having length of 2\n",
        "per2 = permutations(a, 2)\n",
        "list(per2)"
      ],
      "metadata": {
        "colab": {
          "base_uri": "https://localhost:8080/"
        },
        "id": "_yJm1Hnd8Fj5",
        "outputId": "281a4049-8df5-4bdb-aa42-9f9dd427348b"
      },
      "execution_count": 12,
      "outputs": [
        {
          "output_type": "execute_result",
          "data": {
            "text/plain": [
              "[(1, 2), (1, 3), (2, 1), (2, 3), (3, 1), (3, 2)]"
            ]
          },
          "metadata": {},
          "execution_count": 12
        }
      ]
    },
    {
      "cell_type": "markdown",
      "source": [
        "## Combinations\n",
        "\n",
        "> selecting objects from collections, in such a way that the order of the **objects does not matter**\n",
        "\n"
      ],
      "metadata": {
        "id": "BBjAIwDw9EIK"
      }
    },
    {
      "cell_type": "code",
      "source": [
        "from itertools import combinations, combinations_with_replacement"
      ],
      "metadata": {
        "id": "i1GjKT9a-IsV"
      },
      "execution_count": 17,
      "outputs": []
    },
    {
      "cell_type": "code",
      "source": [
        "a = [1, 2, 3, 4]\n",
        "\n",
        "comb = combinations(a, 2)    # 4C2\n",
        "print(f\"combinations: {list(comb)}\")\n",
        "\n",
        "comb_wr = combinations_with_replacement(a,2)\n",
        "print(f\"combinations with replacements: {list(comb_wr)}\")"
      ],
      "metadata": {
        "colab": {
          "base_uri": "https://localhost:8080/"
        },
        "id": "2qOdP-kB-R6n",
        "outputId": "31233ce1-8cdf-47f3-d2e3-ccff5f2f13fc"
      },
      "execution_count": 18,
      "outputs": [
        {
          "output_type": "stream",
          "name": "stdout",
          "text": [
            "combinations: [(1, 2), (1, 3), (1, 4), (2, 3), (2, 4), (3, 4)]\n",
            "combinations with replacements: [(1, 1), (1, 2), (1, 3), (1, 4), (2, 2), (2, 3), (2, 4), (3, 3), (3, 4), (4, 4)]\n"
          ]
        }
      ]
    },
    {
      "cell_type": "markdown",
      "source": [
        "## accumulation\n",
        "\n",
        "> Return series of accumulated sums (or other binary function results).\n",
        "\n"
      ],
      "metadata": {
        "id": "3fNCTUXtAAtQ"
      }
    },
    {
      "cell_type": "code",
      "source": [
        "from itertools import accumulate\n",
        "import operator"
      ],
      "metadata": {
        "id": "x12dOP4AAFB6"
      },
      "execution_count": 23,
      "outputs": []
    },
    {
      "cell_type": "code",
      "source": [
        "a = [1, 2, 3, 4]\n",
        "\n",
        "acc = accumulate(a)\n",
        "print(f\"list a = : {a}\")\n",
        "print(f\"accumulated list: {list(acc)}\")"
      ],
      "metadata": {
        "colab": {
          "base_uri": "https://localhost:8080/"
        },
        "outputId": "3199618f-623a-4a5a-9f24-5bd403835830",
        "id": "ua1OKY6yAFB6"
      },
      "execution_count": 22,
      "outputs": [
        {
          "output_type": "stream",
          "name": "stdout",
          "text": [
            "list a = : [1, 2, 3, 4]\n",
            "accumulated list: [1, 3, 6, 10]\n"
          ]
        }
      ]
    },
    {
      "cell_type": "code",
      "source": [
        "acc_mul = accumulate(a, func= operator.mul)\n",
        "print(f\"accumulated multiplication list: {list(acc_mul)}\")"
      ],
      "metadata": {
        "colab": {
          "base_uri": "https://localhost:8080/"
        },
        "id": "Nle6tok4A7Qc",
        "outputId": "ab621996-428b-4198-9403-9287f67fac8d"
      },
      "execution_count": 29,
      "outputs": [
        {
          "output_type": "stream",
          "name": "stdout",
          "text": [
            "accumulated multiplication list: [1, 2, 6, 24]\n"
          ]
        }
      ]
    },
    {
      "cell_type": "code",
      "source": [
        "b = [1, 2, 5, 3, 6, 4, 7, 3]\n",
        "\n",
        "acc_max = accumulate(b, func=max)    # commulative maximum\n",
        "print(f\"accumulated max list: {list(acc_max)}\")"
      ],
      "metadata": {
        "colab": {
          "base_uri": "https://localhost:8080/"
        },
        "id": "Vqvd8OLsBQwX",
        "outputId": "a2d5b66b-6321-46dc-901b-4dc020f83b06"
      },
      "execution_count": 30,
      "outputs": [
        {
          "output_type": "stream",
          "name": "stdout",
          "text": [
            "accumulated max list: [1, 2, 5, 5, 6, 6, 7, 7]\n"
          ]
        }
      ]
    },
    {
      "cell_type": "markdown",
      "source": [
        "## Groupby\n",
        "\n",
        "> make an iterator that returns consecutive keys and groups from the iterable\n",
        "\n"
      ],
      "metadata": {
        "id": "XWpMR6AmEIah"
      }
    },
    {
      "cell_type": "code",
      "source": [
        "from itertools import groupby"
      ],
      "metadata": {
        "id": "uTXErqwwEMcK"
      },
      "execution_count": 31,
      "outputs": []
    },
    {
      "cell_type": "code",
      "source": [
        "a = [1, 2, 3, 4]\n",
        "\n",
        "# def smaller_than_three(x):\n",
        "#   return x < 3\n",
        "\n",
        "# group_obj = groupby(a, key= smaller_than_three) # we can also use lambda (one liner func) function for cleaner code\n",
        "\n",
        "group_obj = groupby(a, key= lambda x: x < 3)   # [1, 2] < 3 so they're group together, [3, 4] > 3 so they're group together\n",
        "\n",
        "for key, value in group_obj:\n",
        "  print(key, list(value))"
      ],
      "metadata": {
        "colab": {
          "base_uri": "https://localhost:8080/"
        },
        "id": "2yDz7TDbERih",
        "outputId": "dfa975e7-ba61-40f3-bdb9-da884814cd8e"
      },
      "execution_count": 32,
      "outputs": [
        {
          "output_type": "stream",
          "name": "stdout",
          "text": [
            "True [1, 2]\n",
            "False [3, 4]\n"
          ]
        }
      ]
    },
    {
      "cell_type": "code",
      "source": [
        "persons = [{'name': 'Ajay', 'age': 18}, {'name': 'Jenny', 'age': 18}, {'name': 'Vraj', 'age': 20}, {'name': 'Dev', 'age': 24},\n",
        "           {'name': 'Mansi', 'age': 16}]\n",
        "\n",
        "group_obj = groupby(persons, key= lambda x: x['age'])\n",
        "\n",
        "for key, value in group_obj:\n",
        "  print(key, list(value))"
      ],
      "metadata": {
        "colab": {
          "base_uri": "https://localhost:8080/"
        },
        "id": "inN8-kTsF8XS",
        "outputId": "03400700-eed2-48e2-d675-b87d48ce6828"
      },
      "execution_count": 35,
      "outputs": [
        {
          "output_type": "stream",
          "name": "stdout",
          "text": [
            "18 [{'name': 'Ajay', 'age': 18}, {'name': 'Jenny', 'age': 18}]\n",
            "20 [{'name': 'Vraj', 'age': 20}]\n",
            "24 [{'name': 'Dev', 'age': 24}]\n",
            "16 [{'name': 'Mansi', 'age': 16}]\n"
          ]
        }
      ]
    },
    {
      "cell_type": "markdown",
      "source": [
        "## count, cycle, repeat"
      ],
      "metadata": {
        "id": "_mWLNgT5H_V_"
      }
    },
    {
      "cell_type": "code",
      "source": [
        "from itertools import count, cycle, repeat"
      ],
      "metadata": {
        "id": "pO2lEdDbH-5l"
      },
      "execution_count": 39,
      "outputs": []
    },
    {
      "cell_type": "code",
      "source": [
        "for i in count(10):\n",
        "  print(i)\n",
        "  if i==15:\n",
        "    break"
      ],
      "metadata": {
        "colab": {
          "base_uri": "https://localhost:8080/"
        },
        "id": "P90M4eONIMVJ",
        "outputId": "13bf2014-b972-43cd-a353-b4ad006ed0cd"
      },
      "execution_count": 40,
      "outputs": [
        {
          "output_type": "stream",
          "name": "stdout",
          "text": [
            "10\n",
            "11\n",
            "12\n",
            "13\n",
            "14\n",
            "15\n"
          ]
        }
      ]
    },
    {
      "cell_type": "code",
      "source": [
        "a = [1, 2, 3]\n",
        "\n",
        "cnt = 0\n",
        "for i in cycle(a):\n",
        "  if cnt == 10:\n",
        "    break\n",
        "  print(i)\n",
        "  cnt += 1"
      ],
      "metadata": {
        "colab": {
          "base_uri": "https://localhost:8080/"
        },
        "id": "q1pWOta5Igl2",
        "outputId": "f0c3dfc9-3a4a-4484-d628-213aae5a0a6e"
      },
      "execution_count": 42,
      "outputs": [
        {
          "output_type": "stream",
          "name": "stdout",
          "text": [
            "1\n",
            "2\n",
            "3\n",
            "1\n",
            "2\n",
            "3\n",
            "1\n",
            "2\n",
            "3\n",
            "1\n"
          ]
        }
      ]
    },
    {
      "cell_type": "code",
      "source": [
        "for i in repeat(1, 5):   # repeat 1 five times\n",
        "  print(i)"
      ],
      "metadata": {
        "colab": {
          "base_uri": "https://localhost:8080/"
        },
        "id": "EJK3bttLJA7J",
        "outputId": "dda0e3e1-4e6b-4231-a132-0b1aeded26f2"
      },
      "execution_count": 43,
      "outputs": [
        {
          "output_type": "stream",
          "name": "stdout",
          "text": [
            "1\n",
            "1\n",
            "1\n",
            "1\n",
            "1\n"
          ]
        }
      ]
    }
  ]
}