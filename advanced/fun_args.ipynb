{
  "nbformat": 4,
  "nbformat_minor": 0,
  "metadata": {
    "colab": {
      "provenance": [],
      "toc_visible": true,
      "authorship_tag": "ABX9TyMEQVR92Velnxid6vXTSBby",
      "include_colab_link": true
    },
    "kernelspec": {
      "name": "python3",
      "display_name": "Python 3"
    },
    "language_info": {
      "name": "python"
    }
  },
  "cells": [
    {
      "cell_type": "markdown",
      "metadata": {
        "id": "view-in-github",
        "colab_type": "text"
      },
      "source": [
        "<a href=\"https://colab.research.google.com/github/aj225patel/python-fundamentals/blob/main/advanced/fun_args.ipynb\" target=\"_parent\"><img src=\"https://colab.research.google.com/assets/colab-badge.svg\" alt=\"Open In Colab\"/></a>"
      ]
    },
    {
      "cell_type": "markdown",
      "source": [
        "# **Function Arguments**"
      ],
      "metadata": {
        "id": "wDx3BNGhloyd"
      }
    },
    {
      "cell_type": "markdown",
      "source": [
        "## Arguments and parameters"
      ],
      "metadata": {
        "id": "36ubP0xFxVGo"
      }
    },
    {
      "cell_type": "markdown",
      "source": [
        "* Parameters are the variables that are defined or used inside parentheses while defining a function\n",
        "* Arguments are the value passed for these parameters while calling a function"
      ],
      "metadata": {
        "id": "2iGHuAXFxdCK"
      }
    },
    {
      "cell_type": "code",
      "source": [
        "def print_name(name): # name is the parameter\n",
        "    print(name)\n",
        "\n",
        "print_name('Alex') # 'Alex' is the argument"
      ],
      "metadata": {
        "id": "0znXYQAMxWgQ"
      },
      "execution_count": null,
      "outputs": []
    },
    {
      "cell_type": "markdown",
      "source": [
        "## Positional and keyword arguments\n",
        "\n",
        "> We can pass arguments as positional or keyword arguments. Some benefits of keyword arguments can be: - We can call arguments by their names to make it more clear what they represent - We can rearrange arguments in a way that makes them most readable\n",
        "\n"
      ],
      "metadata": {
        "id": "meL3HF7nxmCj"
      }
    },
    {
      "cell_type": "code",
      "source": [
        "def foo(a, b, c):\n",
        "    print(a, b, c)\n",
        "\n",
        "# positional arguments\n",
        "foo(1, 2, 3)\n",
        "\n",
        "# keyword arguments\n",
        "foo(a=1, b=2, c=3)\n",
        "foo(c=3, b=2, a=1) # Note that the order is not important here\n",
        "\n",
        "# mix of both\n",
        "foo(1, b=2, c=3)\n",
        "\n",
        "# This is not allowed:\n",
        "# foo(1, b=2, 3) # positional argument after keyword argument\n",
        "# foo(1, b=2, a=3) # multiple values for argument 'a'"
      ],
      "metadata": {
        "colab": {
          "base_uri": "https://localhost:8080/"
        },
        "id": "ozSarbuextVl",
        "outputId": "88a96b2e-353c-4d61-e589-446114d1655c"
      },
      "execution_count": 41,
      "outputs": [
        {
          "output_type": "stream",
          "name": "stdout",
          "text": [
            "1 2 3\n",
            "1 2 3\n",
            "1 2 3\n",
            "1 2 3\n"
          ]
        }
      ]
    },
    {
      "cell_type": "markdown",
      "source": [
        "## Default arguments\n",
        "\n",
        "> Functions can have default arguments with a predefined value. This argument can be left out and the default value is then passed to the function, or the argument can be used with a different value. Note that default arguments must be defined as the last parameters in a function.\n",
        "\n"
      ],
      "metadata": {
        "id": "Qf5UnyXgxx8K"
      }
    },
    {
      "cell_type": "code",
      "source": [
        "# default arguments\n",
        "def foo(a, b, c, d=4):\n",
        "    print(a, b, c, d)\n",
        "\n",
        "foo(1, 2, 3, 4)\n",
        "foo(1, b=2, c=3, d=100)\n",
        "\n",
        "# not allowed: default arguments must be at the end\n",
        "# def foo(a, b=2, c, d=4):\n",
        "#     print(a, b, c, d)"
      ],
      "metadata": {
        "colab": {
          "base_uri": "https://localhost:8080/"
        },
        "id": "0_mjWPsQx0Jo",
        "outputId": "12656d8c-65da-4d8c-9e20-9d4ae309a7a8"
      },
      "execution_count": 42,
      "outputs": [
        {
          "output_type": "stream",
          "name": "stdout",
          "text": [
            "1 2 3 4\n",
            "1 2 3 100\n"
          ]
        }
      ]
    },
    {
      "cell_type": "code",
      "execution_count": 4,
      "metadata": {
        "colab": {
          "base_uri": "https://localhost:8080/",
          "height": 141
        },
        "id": "CCNIQceMksgR",
        "outputId": "8487516f-e24e-43d5-8d18-a13d989ba910"
      },
      "outputs": [
        {
          "output_type": "error",
          "ename": "SyntaxError",
          "evalue": "positional argument follows keyword argument (<ipython-input-4-819065976bd3>, line 4)",
          "traceback": [
            "\u001b[0;36m  File \u001b[0;32m\"<ipython-input-4-819065976bd3>\"\u001b[0;36m, line \u001b[0;32m4\u001b[0m\n\u001b[0;31m    foo(1,b=3, c=4, 1)\u001b[0m\n\u001b[0m                     ^\u001b[0m\n\u001b[0;31mSyntaxError\u001b[0m\u001b[0;31m:\u001b[0m positional argument follows keyword argument\n"
          ]
        }
      ],
      "source": [
        "def foo(a, b, c, d=7):\n",
        "  print(a, b, c, d)\n",
        "\n",
        "foo(1,b=3, c=4, 1)"
      ]
    },
    {
      "cell_type": "code",
      "source": [
        "foo(1, b=3, c=4, a=1)"
      ],
      "metadata": {
        "colab": {
          "base_uri": "https://localhost:8080/",
          "height": 176
        },
        "id": "xmkF5XFnlH3s",
        "outputId": "f08e0f55-44e5-4f7d-f7c8-92cb7c12b2e4"
      },
      "execution_count": 5,
      "outputs": [
        {
          "output_type": "error",
          "ename": "TypeError",
          "evalue": "foo() got multiple values for argument 'a'",
          "traceback": [
            "\u001b[0;31m---------------------------------------------------------------------------\u001b[0m",
            "\u001b[0;31mTypeError\u001b[0m                                 Traceback (most recent call last)",
            "\u001b[0;32m<ipython-input-5-4827da763d6e>\u001b[0m in \u001b[0;36m<cell line: 1>\u001b[0;34m()\u001b[0m\n\u001b[0;32m----> 1\u001b[0;31m \u001b[0mfoo\u001b[0m\u001b[0;34m(\u001b[0m\u001b[0;36m1\u001b[0m\u001b[0;34m,\u001b[0m \u001b[0mb\u001b[0m\u001b[0;34m=\u001b[0m\u001b[0;36m3\u001b[0m\u001b[0;34m,\u001b[0m \u001b[0mc\u001b[0m\u001b[0;34m=\u001b[0m\u001b[0;36m4\u001b[0m\u001b[0;34m,\u001b[0m \u001b[0ma\u001b[0m\u001b[0;34m=\u001b[0m\u001b[0;36m1\u001b[0m\u001b[0;34m)\u001b[0m\u001b[0;34m\u001b[0m\u001b[0;34m\u001b[0m\u001b[0m\n\u001b[0m",
            "\u001b[0;31mTypeError\u001b[0m: foo() got multiple values for argument 'a'"
          ]
        }
      ]
    },
    {
      "cell_type": "code",
      "source": [
        "foo(1, 2, 3)"
      ],
      "metadata": {
        "colab": {
          "base_uri": "https://localhost:8080/"
        },
        "id": "WpvomSyilYa8",
        "outputId": "1afdddcd-eea8-4deb-b22d-d0c0e7174a28"
      },
      "execution_count": 6,
      "outputs": [
        {
          "output_type": "stream",
          "name": "stdout",
          "text": [
            "1 2 3 7\n"
          ]
        }
      ]
    },
    {
      "cell_type": "code",
      "source": [
        "foo(c=4, a=5, b=8)"
      ],
      "metadata": {
        "colab": {
          "base_uri": "https://localhost:8080/"
        },
        "id": "L5KOD0iJleBg",
        "outputId": "0845e979-66a5-4d75-849b-ce2953790a86"
      },
      "execution_count": 8,
      "outputs": [
        {
          "output_type": "stream",
          "name": "stdout",
          "text": [
            "5 8 4 7\n"
          ]
        }
      ]
    },
    {
      "cell_type": "markdown",
      "source": [
        "## Variable-length arguments (\\*args and **kwargs)\n",
        "\n"
      ],
      "metadata": {
        "id": "OgGDj73koWSa"
      }
    },
    {
      "cell_type": "markdown",
      "source": [
        "* If you mark a parameter with one asterisk (*), you can pass any number of positional arguments to your function (Typically called *args)\n",
        "* If you mark a parameter with two asterisks (******), you can pass any number of keyword arguments to this function (Typically called **kwargs)."
      ],
      "metadata": {
        "id": "Up52voCOySbw"
      }
    },
    {
      "cell_type": "code",
      "source": [
        "def foo(a:int, b:int, *args, **kwargs) -> None:\n",
        "  print(f'a = {a}, b = {b}')\n",
        "  for arg in args:\n",
        "    print(arg)\n",
        "\n",
        "  for key in kwargs:\n",
        "    print(f\"key = {key}, value = {kwargs[key]}\")\n",
        "\n",
        "foo(1, 2, 3, 4, 5, six = 6, seven=7)"
      ],
      "metadata": {
        "colab": {
          "base_uri": "https://localhost:8080/"
        },
        "id": "xS_ikWSKllWL",
        "outputId": "a1b6f71f-7a3e-448e-bca7-d4c932dc88e7"
      },
      "execution_count": 10,
      "outputs": [
        {
          "output_type": "stream",
          "name": "stdout",
          "text": [
            "a = 1, b = 2\n",
            "3\n",
            "4\n",
            "5\n",
            "key = six, value = 6\n",
            "key = seven, value = 7\n"
          ]
        }
      ]
    },
    {
      "cell_type": "code",
      "source": [
        "foo(1, 2, 3, 4, 5)"
      ],
      "metadata": {
        "colab": {
          "base_uri": "https://localhost:8080/"
        },
        "id": "E6m3FP_kmqB8",
        "outputId": "ea89885e-5446-4144-f857-42e37cbee45f"
      },
      "execution_count": 11,
      "outputs": [
        {
          "output_type": "stream",
          "name": "stdout",
          "text": [
            "a = 1, b = 2\n",
            "3\n",
            "4\n",
            "5\n"
          ]
        }
      ]
    },
    {
      "cell_type": "markdown",
      "source": [
        "## Forced keyword arguments\n",
        "\n",
        "> Sometimes you want to have keyword-only arguments. You can enforce that with: - If you write '*,' in your function parameter list, all parameters after that must be passed as keyword arguments. - Arguments after variable-length arguments must be keyword arguments.\n",
        "\n"
      ],
      "metadata": {
        "id": "loe_2MVqy3Th"
      }
    },
    {
      "cell_type": "code",
      "source": [
        "def foo(a, b, *, c, d):\n",
        "    print(a, b, c, d)\n",
        "\n",
        "foo(1, 2, c=3, d=4)\n",
        "# not allowed:\n",
        "# foo(1, 2, 3, 4)\n",
        "\n",
        "# arguments after variable-length arguments must be keyword arguments\n",
        "def foo(*args, last):\n",
        "    for arg in args:\n",
        "        print(arg)\n",
        "    print(last)\n",
        "\n",
        "foo(8, 9, 10, last=50)"
      ],
      "metadata": {
        "colab": {
          "base_uri": "https://localhost:8080/"
        },
        "id": "Gr2fJu63zAg4",
        "outputId": "2352f93e-ea4a-4c18-aaa0-a1b51e1b3914"
      },
      "execution_count": 43,
      "outputs": [
        {
          "output_type": "stream",
          "name": "stdout",
          "text": [
            "1 2 3 4\n",
            "8\n",
            "9\n",
            "10\n",
            "50\n"
          ]
        }
      ]
    },
    {
      "cell_type": "code",
      "source": [
        "def foo(a, b, *, c, d):\n",
        "  print(a, b, c, d)\n",
        "\n",
        "foo(1, 2, 3, 4)"
      ],
      "metadata": {
        "colab": {
          "base_uri": "https://localhost:8080/",
          "height": 211
        },
        "id": "kYpKzpYunBlQ",
        "outputId": "744f6fe4-c33b-4df5-815e-c4de8a4985e7"
      },
      "execution_count": 12,
      "outputs": [
        {
          "output_type": "error",
          "ename": "TypeError",
          "evalue": "foo() takes 2 positional arguments but 4 were given",
          "traceback": [
            "\u001b[0;31m---------------------------------------------------------------------------\u001b[0m",
            "\u001b[0;31mTypeError\u001b[0m                                 Traceback (most recent call last)",
            "\u001b[0;32m<ipython-input-12-649b31d7bddd>\u001b[0m in \u001b[0;36m<cell line: 4>\u001b[0;34m()\u001b[0m\n\u001b[1;32m      2\u001b[0m   \u001b[0mprint\u001b[0m\u001b[0;34m(\u001b[0m\u001b[0ma\u001b[0m\u001b[0;34m,\u001b[0m \u001b[0mb\u001b[0m\u001b[0;34m,\u001b[0m \u001b[0mc\u001b[0m\u001b[0;34m,\u001b[0m \u001b[0md\u001b[0m\u001b[0;34m)\u001b[0m\u001b[0;34m\u001b[0m\u001b[0;34m\u001b[0m\u001b[0m\n\u001b[1;32m      3\u001b[0m \u001b[0;34m\u001b[0m\u001b[0m\n\u001b[0;32m----> 4\u001b[0;31m \u001b[0mfoo\u001b[0m\u001b[0;34m(\u001b[0m\u001b[0;36m1\u001b[0m\u001b[0;34m,\u001b[0m \u001b[0;36m2\u001b[0m\u001b[0;34m,\u001b[0m \u001b[0;36m3\u001b[0m\u001b[0;34m,\u001b[0m \u001b[0;36m4\u001b[0m\u001b[0;34m)\u001b[0m\u001b[0;34m\u001b[0m\u001b[0;34m\u001b[0m\u001b[0m\n\u001b[0m",
            "\u001b[0;31mTypeError\u001b[0m: foo() takes 2 positional arguments but 4 were given"
          ]
        }
      ]
    },
    {
      "cell_type": "code",
      "source": [
        "foo(1, 2, c=3, d=4)"
      ],
      "metadata": {
        "colab": {
          "base_uri": "https://localhost:8080/"
        },
        "id": "hUBj6ETbnUIw",
        "outputId": "1a02f797-a53c-4c59-cc45-a29e87b31e0b"
      },
      "execution_count": 13,
      "outputs": [
        {
          "output_type": "stream",
          "name": "stdout",
          "text": [
            "1 2 3 4\n"
          ]
        }
      ]
    },
    {
      "cell_type": "code",
      "source": [
        "def foo1(*args, last):\n",
        "  for arg in args:\n",
        "    print(arg)\n",
        "\n",
        "  print(last)\n",
        "\n",
        "foo1(1, 2, 3, 4)"
      ],
      "metadata": {
        "colab": {
          "base_uri": "https://localhost:8080/",
          "height": 211
        },
        "id": "hZVntujCnbhL",
        "outputId": "f8e4c71d-3ce2-4064-c8ab-2e8ab65288ac"
      },
      "execution_count": 15,
      "outputs": [
        {
          "output_type": "error",
          "ename": "TypeError",
          "evalue": "foo1() missing 1 required keyword-only argument: 'last'",
          "traceback": [
            "\u001b[0;31m---------------------------------------------------------------------------\u001b[0m",
            "\u001b[0;31mTypeError\u001b[0m                                 Traceback (most recent call last)",
            "\u001b[0;32m<ipython-input-15-d22fcd43ee19>\u001b[0m in \u001b[0;36m<cell line: 7>\u001b[0;34m()\u001b[0m\n\u001b[1;32m      5\u001b[0m   \u001b[0mprint\u001b[0m\u001b[0;34m(\u001b[0m\u001b[0mlast\u001b[0m\u001b[0;34m)\u001b[0m\u001b[0;34m\u001b[0m\u001b[0;34m\u001b[0m\u001b[0m\n\u001b[1;32m      6\u001b[0m \u001b[0;34m\u001b[0m\u001b[0m\n\u001b[0;32m----> 7\u001b[0;31m \u001b[0mfoo1\u001b[0m\u001b[0;34m(\u001b[0m\u001b[0;36m1\u001b[0m\u001b[0;34m,\u001b[0m \u001b[0;36m2\u001b[0m\u001b[0;34m,\u001b[0m \u001b[0;36m3\u001b[0m\u001b[0;34m,\u001b[0m \u001b[0;36m4\u001b[0m\u001b[0;34m)\u001b[0m\u001b[0;34m\u001b[0m\u001b[0;34m\u001b[0m\u001b[0m\n\u001b[0m",
            "\u001b[0;31mTypeError\u001b[0m: foo1() missing 1 required keyword-only argument: 'last'"
          ]
        }
      ]
    },
    {
      "cell_type": "code",
      "source": [
        "foo1(1,2,3, last=4)"
      ],
      "metadata": {
        "colab": {
          "base_uri": "https://localhost:8080/"
        },
        "id": "ocrC4UKrn6Ou",
        "outputId": "1904917e-e530-4515-c2ad-965b19ed1d48"
      },
      "execution_count": 17,
      "outputs": [
        {
          "output_type": "stream",
          "name": "stdout",
          "text": [
            "1\n",
            "2\n",
            "3\n",
            "4\n"
          ]
        }
      ]
    },
    {
      "cell_type": "markdown",
      "source": [
        "## Unpacking into agruments"
      ],
      "metadata": {
        "id": "kk7QEOJOzJyA"
      }
    },
    {
      "cell_type": "markdown",
      "source": [
        "* Lists or tuples can be unpacked into arguments with one asterisk (*) if the length of the container matches the number of function parameters.\n",
        "* Dictionaries can be unpacked into arguments with two asterisks (**) the the length and the keys match the function parameters."
      ],
      "metadata": {
        "id": "184smfsxzNS4"
      }
    },
    {
      "cell_type": "code",
      "source": [
        "def foo(a, b, c):\n",
        "    print(a, b, c)\n",
        "\n",
        "\n",
        "# list/tuple unpacking, length must match\n",
        "my_list = [4, 5, 6] # or tuple\n",
        "foo(*my_list)\n",
        "\n",
        "# dict unpacking, keys and length must match\n",
        "my_dict = {'a': 1, 'b': 2, 'c': 3}\n",
        "foo(**my_dict)\n",
        "\n",
        "# my_dict = {'a': 1, 'b': 2, 'd': 3} # not possible since wrong keyword"
      ],
      "metadata": {
        "colab": {
          "base_uri": "https://localhost:8080/"
        },
        "id": "t6J1Rj9poC58",
        "outputId": "e56ee221-7f52-44ac-e9af-ae70bd85c6f2"
      },
      "execution_count": 44,
      "outputs": [
        {
          "output_type": "stream",
          "name": "stdout",
          "text": [
            "4 5 6\n",
            "1 2 3\n"
          ]
        }
      ]
    },
    {
      "cell_type": "code",
      "source": [
        "my_dict1 = {'e':1, 'b':2, 'c':3}\n",
        "foo(**my_dict1)"
      ],
      "metadata": {
        "colab": {
          "base_uri": "https://localhost:8080/",
          "height": 193
        },
        "id": "SQ1ditGLqLZf",
        "outputId": "49c26c3d-7a25-408e-e091-12632d405aee"
      },
      "execution_count": 22,
      "outputs": [
        {
          "output_type": "error",
          "ename": "TypeError",
          "evalue": "foo() got an unexpected keyword argument 'e'",
          "traceback": [
            "\u001b[0;31m---------------------------------------------------------------------------\u001b[0m",
            "\u001b[0;31mTypeError\u001b[0m                                 Traceback (most recent call last)",
            "\u001b[0;32m<ipython-input-22-ae214d8bafd0>\u001b[0m in \u001b[0;36m<cell line: 2>\u001b[0;34m()\u001b[0m\n\u001b[1;32m      1\u001b[0m \u001b[0mmy_dict1\u001b[0m \u001b[0;34m=\u001b[0m \u001b[0;34m{\u001b[0m\u001b[0;34m'e'\u001b[0m\u001b[0;34m:\u001b[0m\u001b[0;36m1\u001b[0m\u001b[0;34m,\u001b[0m \u001b[0;34m'b'\u001b[0m\u001b[0;34m:\u001b[0m\u001b[0;36m2\u001b[0m\u001b[0;34m,\u001b[0m \u001b[0;34m'c'\u001b[0m\u001b[0;34m:\u001b[0m\u001b[0;36m3\u001b[0m\u001b[0;34m}\u001b[0m\u001b[0;34m\u001b[0m\u001b[0;34m\u001b[0m\u001b[0m\n\u001b[0;32m----> 2\u001b[0;31m \u001b[0mfoo\u001b[0m\u001b[0;34m(\u001b[0m\u001b[0;34m**\u001b[0m\u001b[0mmy_dict1\u001b[0m\u001b[0;34m)\u001b[0m\u001b[0;34m\u001b[0m\u001b[0;34m\u001b[0m\u001b[0m\n\u001b[0m",
            "\u001b[0;31mTypeError\u001b[0m: foo() got an unexpected keyword argument 'e'"
          ]
        }
      ]
    },
    {
      "cell_type": "markdown",
      "source": [
        "## Local vs global variables\n",
        "\n",
        "> Global variables can be accessed within a function body, but to modify them, we first must state global var_name in order to change the global variable.\n",
        "\n"
      ],
      "metadata": {
        "id": "gONbjXcZzb5i"
      }
    },
    {
      "cell_type": "code",
      "source": [
        "def foo1():\n",
        "    x = number # global variable can only be accessed here\n",
        "    print('number in function:', x)\n",
        "\n",
        "number = 0\n",
        "foo1()\n",
        "\n",
        "# modifying the global variable\n",
        "def foo2():\n",
        "    global number # global variable can now be accessed and modified\n",
        "    number = 3\n",
        "\n",
        "print('number before foo2(): ', number)\n",
        "foo2() # modifies the global variable\n",
        "print('number after foo2(): ', number)"
      ],
      "metadata": {
        "colab": {
          "base_uri": "https://localhost:8080/"
        },
        "id": "JjqABZNEqWv_",
        "outputId": "42f90e82-4c3c-4312-f401-e3aaaf799a23"
      },
      "execution_count": 45,
      "outputs": [
        {
          "output_type": "stream",
          "name": "stdout",
          "text": [
            "number in function: 0\n",
            "number before foo2():  0\n",
            "number after foo2():  3\n"
          ]
        }
      ]
    },
    {
      "cell_type": "code",
      "source": [
        "def doo1():\n",
        "  x = number1  # Global variable\n",
        "  number1 = 3\n",
        "  print(f\"Number inside the function: {x}\")\n",
        "\n",
        "number1 = 1\n",
        "doo1()"
      ],
      "metadata": {
        "colab": {
          "base_uri": "https://localhost:8080/",
          "height": 332
        },
        "id": "tYFYrhxlqzLH",
        "outputId": "1fe633ca-b937-43d5-e941-0e7092b2a02a"
      },
      "execution_count": 27,
      "outputs": [
        {
          "output_type": "error",
          "ename": "UnboundLocalError",
          "evalue": "local variable 'number1' referenced before assignment",
          "traceback": [
            "\u001b[0;31m---------------------------------------------------------------------------\u001b[0m",
            "\u001b[0;31mUnboundLocalError\u001b[0m                         Traceback (most recent call last)",
            "\u001b[0;32m<ipython-input-27-014ecffb0045>\u001b[0m in \u001b[0;36m<cell line: 7>\u001b[0;34m()\u001b[0m\n\u001b[1;32m      5\u001b[0m \u001b[0;34m\u001b[0m\u001b[0m\n\u001b[1;32m      6\u001b[0m \u001b[0mnumber1\u001b[0m \u001b[0;34m=\u001b[0m \u001b[0;36m1\u001b[0m\u001b[0;34m\u001b[0m\u001b[0;34m\u001b[0m\u001b[0m\n\u001b[0;32m----> 7\u001b[0;31m \u001b[0mdoo1\u001b[0m\u001b[0;34m(\u001b[0m\u001b[0;34m)\u001b[0m\u001b[0;34m\u001b[0m\u001b[0;34m\u001b[0m\u001b[0m\n\u001b[0m",
            "\u001b[0;32m<ipython-input-27-014ecffb0045>\u001b[0m in \u001b[0;36mdoo1\u001b[0;34m()\u001b[0m\n\u001b[1;32m      1\u001b[0m \u001b[0;32mdef\u001b[0m \u001b[0mdoo1\u001b[0m\u001b[0;34m(\u001b[0m\u001b[0;34m)\u001b[0m\u001b[0;34m:\u001b[0m\u001b[0;34m\u001b[0m\u001b[0;34m\u001b[0m\u001b[0m\n\u001b[0;32m----> 2\u001b[0;31m   \u001b[0mx\u001b[0m \u001b[0;34m=\u001b[0m \u001b[0mnumber1\u001b[0m  \u001b[0;31m# Global variable\u001b[0m\u001b[0;34m\u001b[0m\u001b[0;34m\u001b[0m\u001b[0m\n\u001b[0m\u001b[1;32m      3\u001b[0m   \u001b[0mnumber1\u001b[0m \u001b[0;34m=\u001b[0m \u001b[0;36m3\u001b[0m\u001b[0;34m\u001b[0m\u001b[0;34m\u001b[0m\u001b[0m\n\u001b[1;32m      4\u001b[0m   \u001b[0mprint\u001b[0m\u001b[0;34m(\u001b[0m\u001b[0;34mf\"Number inside the function: {x}\"\u001b[0m\u001b[0;34m)\u001b[0m\u001b[0;34m\u001b[0m\u001b[0;34m\u001b[0m\u001b[0m\n\u001b[1;32m      5\u001b[0m \u001b[0;34m\u001b[0m\u001b[0m\n",
            "\u001b[0;31mUnboundLocalError\u001b[0m: local variable 'number1' referenced before assignment"
          ]
        }
      ]
    },
    {
      "cell_type": "code",
      "source": [
        "def doo1():\n",
        "  global number1\n",
        "  x = number1  # Global variable\n",
        "  number1 = 3\n",
        "  print(f\"Number inside the function: {x}\")\n",
        "\n",
        "number1 = 1\n",
        "doo1()\n",
        "print(number1)"
      ],
      "metadata": {
        "colab": {
          "base_uri": "https://localhost:8080/"
        },
        "id": "ESUAnjlNrFmN",
        "outputId": "d638a3f0-f11b-4211-e7aa-d66f88aa62fe"
      },
      "execution_count": 30,
      "outputs": [
        {
          "output_type": "stream",
          "name": "stdout",
          "text": [
            "Number inside the function: 1\n",
            "3\n"
          ]
        }
      ]
    },
    {
      "cell_type": "code",
      "source": [
        "def doo1():\n",
        "  number1 = 3\n",
        "  print(f\"number1 inside function (local scope): {number1}\")\n",
        "\n",
        "number1 = 1\n",
        "doo1()\n",
        "print(f\"number1 outside function (global scope): {number1}\")"
      ],
      "metadata": {
        "colab": {
          "base_uri": "https://localhost:8080/"
        },
        "id": "JveiFSjJr1f5",
        "outputId": "aa5c3676-9f29-483e-963f-d61995d1e15e"
      },
      "execution_count": 32,
      "outputs": [
        {
          "output_type": "stream",
          "name": "stdout",
          "text": [
            "number1 inside function (local scope): 3\n",
            "number1 outside function (global scope): 1\n"
          ]
        }
      ]
    },
    {
      "cell_type": "markdown",
      "source": [
        "## Parameter Passing\n",
        "\n",
        "> Python uses a mechanism, which is known as \"Call-by-Object\" or \"Call-by-Object-Reference. The following rules must be considered: - The parameter passed in is actually a reference to an object (but the reference is passed by value) - Difference between mutable and immutable data types\n",
        "\n"
      ],
      "metadata": {
        "id": "fAt6r4E_z__6"
      }
    },
    {
      "cell_type": "markdown",
      "source": [
        "This means that:\n",
        "\n",
        "1. Mutable objects (e.g. lists,dict) can be changed within a method.\n",
        "2. But if you rebind the reference in the method, the outer reference will still point at the original object.\n",
        "3. Immutable objects (e.g. int, string) cannot be changed within a method.\n",
        "4. But immutable object CONTAINED WITHIN a mutable object can be re-assigned within a method."
      ],
      "metadata": {
        "id": "okiRm1yR0RGg"
      }
    },
    {
      "cell_type": "code",
      "source": [
        "def foo(x):\n",
        "  x = 5  # local variable\n",
        "\n",
        "var = 10   # integer is immutable type object\n",
        "foo(var)\n",
        "print(var)"
      ],
      "metadata": {
        "colab": {
          "base_uri": "https://localhost:8080/"
        },
        "id": "7NdOTX7StddR",
        "outputId": "4cba1df2-958e-4887-deed-a19a61063255"
      },
      "execution_count": 33,
      "outputs": [
        {
          "output_type": "stream",
          "name": "stdout",
          "text": [
            "10\n"
          ]
        }
      ]
    },
    {
      "cell_type": "code",
      "source": [
        "def foo(a_list: list):\n",
        "  a_list.append(4)\n",
        "  a_list[0] = -100  # immutable object contained in mutable object can be changed\n",
        "\n",
        "my_list = [1, 2, 3]   # list is mmutable type object\n",
        "print(f\"Original list: {my_list}\")\n",
        "foo(my_list)\n",
        "print(f\"Mutated list by function: {my_list}\")"
      ],
      "metadata": {
        "colab": {
          "base_uri": "https://localhost:8080/"
        },
        "id": "C5xS-s_aucwm",
        "outputId": "f0c5d858-332e-4104-ce3c-c28d9c24a266"
      },
      "execution_count": 36,
      "outputs": [
        {
          "output_type": "stream",
          "name": "stdout",
          "text": [
            "Original list: [1, 2, 3]\n",
            "Mutated list by function: [-100, 2, 3, 4]\n"
          ]
        }
      ]
    },
    {
      "cell_type": "code",
      "source": [
        "def foo(a_list: list):\n",
        "  a_list = [100, 200, 300]  # rebind a new reference of the list\n",
        "  a_list[0] = -100\n",
        "\n",
        "my_list = [1, 2, 3]   # list is mmutable type object\n",
        "print(f\"Original list: {my_list}\")\n",
        "foo(my_list)\n",
        "print(f\"List remains unchanged: {my_list}\")"
      ],
      "metadata": {
        "colab": {
          "base_uri": "https://localhost:8080/"
        },
        "id": "rSIaM5SmvB5z",
        "outputId": "172f716c-31a4-465d-b017-7ffbea3c47bb"
      },
      "execution_count": 38,
      "outputs": [
        {
          "output_type": "stream",
          "name": "stdout",
          "text": [
            "Original list: [1, 2, 3]\n",
            "List remains unchanged: [1, 2, 3]\n"
          ]
        }
      ]
    },
    {
      "cell_type": "code",
      "source": [
        "def foo(a_list: list):\n",
        "  a_list += [100, 200, 300]  # this changes the outer variable\n",
        "\n",
        "my_list = [1, 2, 3]   # list is mmutable type object\n",
        "print(f\"Original list: {my_list}\")\n",
        "foo(my_list)\n",
        "print(f\"Mutated list by function: {my_list}\")"
      ],
      "metadata": {
        "colab": {
          "base_uri": "https://localhost:8080/"
        },
        "id": "2L_L4eKNvyBs",
        "outputId": "f872930b-1af8-40e0-a563-b80ab6e0a97e"
      },
      "execution_count": 39,
      "outputs": [
        {
          "output_type": "stream",
          "name": "stdout",
          "text": [
            "Original list: [1, 2, 3]\n",
            "Mutated list by function: [1, 2, 3, 100, 200, 300]\n"
          ]
        }
      ]
    },
    {
      "cell_type": "code",
      "source": [
        "def foo(a_list: list):\n",
        "  a_list = a_list + [100, 200, 300]   # (a_list + [100, 200, 300]) has a new reference of the list, so it's basically rebinding\n",
        "\n",
        "my_list = [1, 2, 3]   # list is mmutable type object\n",
        "print(f\"Original list: {my_list}\")\n",
        "foo(my_list)\n",
        "print(f\"list remains unchanged: {my_list}\")"
      ],
      "metadata": {
        "colab": {
          "base_uri": "https://localhost:8080/"
        },
        "id": "7e3KbqOwwu_-",
        "outputId": "445581e4-306e-4231-f152-d22f6e3adef3"
      },
      "execution_count": 46,
      "outputs": [
        {
          "output_type": "stream",
          "name": "stdout",
          "text": [
            "Original list: [1, 2, 3]\n",
            "list remains unchanged: [1, 2, 3]\n"
          ]
        }
      ]
    }
  ]
}