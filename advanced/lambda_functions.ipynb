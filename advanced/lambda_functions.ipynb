{
  "nbformat": 4,
  "nbformat_minor": 0,
  "metadata": {
    "colab": {
      "provenance": [],
      "authorship_tag": "ABX9TyMTISuNMATpxMjz7chuZ60L",
      "include_colab_link": true
    },
    "kernelspec": {
      "name": "python3",
      "display_name": "Python 3"
    },
    "language_info": {
      "name": "python"
    }
  },
  "cells": [
    {
      "cell_type": "markdown",
      "metadata": {
        "id": "view-in-github",
        "colab_type": "text"
      },
      "source": [
        "<a href=\"https://colab.research.google.com/github/aj225patel/python-fundamentals/blob/main/advanced/lambda_functions.ipynb\" target=\"_parent\"><img src=\"https://colab.research.google.com/assets/colab-badge.svg\" alt=\"Open In Colab\"/></a>"
      ]
    },
    {
      "cell_type": "markdown",
      "source": [
        "# **Lambda Functions**\n",
        "\n",
        "> One liner functions for cleaner code\n"
      ],
      "metadata": {
        "id": "ecDYaYEmMHuO"
      }
    },
    {
      "cell_type": "code",
      "execution_count": 1,
      "metadata": {
        "colab": {
          "base_uri": "https://localhost:8080/"
        },
        "id": "Nqj5mR22MFNk",
        "outputId": "cf109e7e-7a9f-4397-d410-33da8be561a6"
      },
      "outputs": [
        {
          "output_type": "stream",
          "name": "stdout",
          "text": [
            "30\n"
          ]
        }
      ],
      "source": [
        "add10 = lambda a: a + 10\n",
        "\n",
        "print(add10(20))"
      ]
    },
    {
      "cell_type": "code",
      "source": [
        "mul = lambda x, y: x * y\n",
        "\n",
        "print(mul(10, 9))"
      ],
      "metadata": {
        "colab": {
          "base_uri": "https://localhost:8080/"
        },
        "id": "DIfrjLSyMdXl",
        "outputId": "8819b812-c16e-4573-e90d-53a5014f9c41"
      },
      "execution_count": 3,
      "outputs": [
        {
          "output_type": "stream",
          "name": "stdout",
          "text": [
            "90\n"
          ]
        }
      ]
    },
    {
      "cell_type": "code",
      "source": [
        "points2D = [(1,2), (15,1), (5,-1), (10, 4)]\n",
        "\n",
        "sorted_points2D = sorted(points2D)   # sorted by first element in the tuple by default\n",
        "\n",
        "print(sorted_points2D)"
      ],
      "metadata": {
        "colab": {
          "base_uri": "https://localhost:8080/"
        },
        "id": "gyM1bkM-MlQ-",
        "outputId": "5926e932-a806-4c5b-e2df-b8bd9ea3d6c5"
      },
      "execution_count": 4,
      "outputs": [
        {
          "output_type": "stream",
          "name": "stdout",
          "text": [
            "[(1, 2), (5, -1), (10, 4), (15, 1)]\n"
          ]
        }
      ]
    },
    {
      "cell_type": "code",
      "source": [
        "# sorted by second element in the tuple by specifying the key function (custom)\n",
        "sorted_points2D = sorted(points2D, key = lambda x: x[1])\n",
        "print(f\"sorted by second element: {sorted_points2D}\")\n",
        "\n",
        "sorted_points2D_bysum = sorted(points2D, key = lambda x: x[0] + x[1])\n",
        "print(f\"sorted by sum of elements: {sorted_points2D_bysum}\")"
      ],
      "metadata": {
        "colab": {
          "base_uri": "https://localhost:8080/"
        },
        "id": "SgTSxLypN4Zi",
        "outputId": "0347185a-7131-4df4-d39e-90ee9f2252e0"
      },
      "execution_count": 6,
      "outputs": [
        {
          "output_type": "stream",
          "name": "stdout",
          "text": [
            "sorted by second element: [(5, -1), (15, 1), (1, 2), (10, 4)]\n",
            "sorted by sum of elements: [(1, 2), (5, -1), (10, 4), (15, 1)]\n"
          ]
        }
      ]
    },
    {
      "cell_type": "markdown",
      "source": [
        "## lambda function with map() function\n",
        "\n",
        "> map(func, *iterables) --> map object\n",
        "\n"
      ],
      "metadata": {
        "id": "rk_xSomLPKLF"
      }
    },
    {
      "cell_type": "code",
      "source": [
        "a = [1, 2, 3, 4]\n",
        "\n",
        "b = map(lambda x: x*2, a)\n",
        "print(f\"b = {list(b)}\")\n",
        "\n",
        "# OR\n",
        "\n",
        "c = [i*2 for i in a]    # list comprehension, more simple, clean and readable\n",
        "print(f\"c = {c}\")"
      ],
      "metadata": {
        "colab": {
          "base_uri": "https://localhost:8080/"
        },
        "id": "OaKkskiiOOwJ",
        "outputId": "23887535-1fce-4143-b278-d64461e0a3f0"
      },
      "execution_count": 9,
      "outputs": [
        {
          "output_type": "stream",
          "name": "stdout",
          "text": [
            "b = [2, 4, 6, 8]\n",
            "c = [2, 4, 6, 8]\n"
          ]
        }
      ]
    },
    {
      "cell_type": "markdown",
      "source": [
        "## lambda function with filter() function\n",
        "\n",
        "> filter(function or None, iterable) --> filter object"
      ],
      "metadata": {
        "id": "N0StrC5fQbtJ"
      }
    },
    {
      "cell_type": "code",
      "source": [
        "# filter out only even numbers from the list\n",
        "a = [1, 2, 3, 4, 5, 6]\n",
        "\n",
        "b = filter(lambda x: x % 2 == 0, a)\n",
        "print(f\"b = {list(b)}\")\n",
        "\n",
        "# OR using List Comprehension\n",
        "\n",
        "c = [i for i in a if i % 2 == 0]\n",
        "print(f\"c = {c}\")"
      ],
      "metadata": {
        "colab": {
          "base_uri": "https://localhost:8080/"
        },
        "id": "XimRZb5eQhLA",
        "outputId": "d3ebda78-f213-402c-9511-09bbaeb60e65"
      },
      "execution_count": 13,
      "outputs": [
        {
          "output_type": "stream",
          "name": "stdout",
          "text": [
            "b = [2, 4, 6]\n",
            "c = [2, 4, 6]\n"
          ]
        }
      ]
    },
    {
      "cell_type": "markdown",
      "source": [
        "## lambda function with reduce() function\n",
        "\n",
        "> reduce(function, iterable[, initial]) -> value\n",
        "\n"
      ],
      "metadata": {
        "id": "3KGNv2KVR2s6"
      }
    },
    {
      "cell_type": "code",
      "source": [
        "from functools import reduce"
      ],
      "metadata": {
        "id": "jnradBWNRni4"
      },
      "execution_count": 15,
      "outputs": []
    },
    {
      "cell_type": "code",
      "source": [
        "a = [1, 2, 3, 4]\n",
        "\n",
        "prod_a = reduce(lambda x, y: x*y, a)     # 1 * 2 * 3 * 4 = 24\n",
        "prod_a"
      ],
      "metadata": {
        "colab": {
          "base_uri": "https://localhost:8080/"
        },
        "id": "LVAUm6-ZSEr_",
        "outputId": "a4a46572-20b7-426e-9d0c-4d8d271499b7"
      },
      "execution_count": 16,
      "outputs": [
        {
          "output_type": "execute_result",
          "data": {
            "text/plain": [
              "24"
            ]
          },
          "metadata": {},
          "execution_count": 16
        }
      ]
    }
  ]
}