{
  "nbformat": 4,
  "nbformat_minor": 0,
  "metadata": {
    "colab": {
      "provenance": [],
      "toc_visible": true,
      "authorship_tag": "ABX9TyOdwOYdNF/kFKaoEzoqR9+9",
      "include_colab_link": true
    },
    "kernelspec": {
      "name": "python3",
      "display_name": "Python 3"
    },
    "language_info": {
      "name": "python"
    }
  },
  "cells": [
    {
      "cell_type": "markdown",
      "metadata": {
        "id": "view-in-github",
        "colab_type": "text"
      },
      "source": [
        "<a href=\"https://colab.research.google.com/github/aj225patel/python-fundamentals/blob/main/advanced/decorators.ipynb\" target=\"_parent\"><img src=\"https://colab.research.google.com/assets/colab-badge.svg\" alt=\"Open In Colab\"/></a>"
      ]
    },
    {
      "cell_type": "markdown",
      "source": [
        "# **Decorators**"
      ],
      "metadata": {
        "id": "hovv_WOccavv"
      }
    },
    {
      "cell_type": "markdown",
      "source": [
        "\n",
        "\n",
        "*   *args is used to pass non-keyword, variable length argument list in the form of tuple\n",
        "*   **kwargs is used to pass keyword, variable length argument list in the form of dict (key-value pairs)\n",
        "\n"
      ],
      "metadata": {
        "id": "HjSijQzfgdCn"
      }
    },
    {
      "cell_type": "markdown",
      "source": [
        "https://www.python-engineer.com/courses/advancedpython/13-decorators/"
      ],
      "metadata": {
        "id": "nbNG0aPU9WQT"
      }
    },
    {
      "cell_type": "code",
      "execution_count": 8,
      "metadata": {
        "colab": {
          "base_uri": "https://localhost:8080/"
        },
        "id": "m3T64EZQcXCY",
        "outputId": "6bfd3481-fd4d-4d14-d645-7280c9811e72"
      },
      "outputs": [
        {
          "output_type": "stream",
          "name": "stdout",
          "text": [
            "Alex\n"
          ]
        }
      ],
      "source": [
        "def start_end_decorators(func):\n",
        "  def wrapper(*args, **kwargs):\n",
        "    print(\"start\")\n",
        "    func(*args, **kwargs)\n",
        "    print(\"end\")\n",
        "\n",
        "  return wrapper\n",
        "\n",
        "def print_name():\n",
        "  print(\"Alex\")\n",
        "\n",
        "print_name()"
      ]
    },
    {
      "cell_type": "code",
      "source": [
        "print_name = start_end_decorators(print_name)\n",
        "print_name()"
      ],
      "metadata": {
        "colab": {
          "base_uri": "https://localhost:8080/"
        },
        "id": "ghhtpZkIdWq6",
        "outputId": "03651b61-5d4e-4864-aeab-ef857f945ad5"
      },
      "execution_count": 9,
      "outputs": [
        {
          "output_type": "stream",
          "name": "stdout",
          "text": [
            "start\n",
            "Alex\n",
            "end\n"
          ]
        }
      ]
    },
    {
      "cell_type": "code",
      "source": [
        "@start_end_decorators\n",
        "def is_age_valid(age: int):\n",
        "  if age >= 18:\n",
        "    print(\"Age is valid\")\n",
        "  else:\n",
        "    print(\"Age is invalid\")\n",
        "\n",
        "is_age_valid(17)"
      ],
      "metadata": {
        "colab": {
          "base_uri": "https://localhost:8080/"
        },
        "id": "2Zt6kVq4dqgw",
        "outputId": "9ebbf1da-7b0c-463a-dc75-5bc94b3b6896"
      },
      "execution_count": 10,
      "outputs": [
        {
          "output_type": "stream",
          "name": "stdout",
          "text": [
            "start\n",
            "Age is invalid\n",
            "end\n"
          ]
        }
      ]
    },
    {
      "cell_type": "markdown",
      "source": [
        "If we have a look at the name of our decorated function, and inspect it with the built-in help function, we notice that Python thinks our function is now the wrapped inner function of the decorator function."
      ],
      "metadata": {
        "id": "eBj7uDxH9HWD"
      }
    },
    {
      "cell_type": "code",
      "source": [
        "print(help(is_age_valid))\n",
        "print(is_age_valid.__name__)"
      ],
      "metadata": {
        "colab": {
          "base_uri": "https://localhost:8080/"
        },
        "id": "PHp4NhTfeXdr",
        "outputId": "9dde8b4b-c126-4407-cf10-59a389523446"
      },
      "execution_count": 11,
      "outputs": [
        {
          "output_type": "stream",
          "name": "stdout",
          "text": [
            "Help on function wrapper in module __main__:\n",
            "\n",
            "wrapper(*args, **kwargs)\n",
            "\n",
            "None\n",
            "wrapper\n"
          ]
        }
      ]
    },
    {
      "cell_type": "code",
      "source": [
        "import functools\n",
        "\n",
        "def start_end_decorators_updated(func):\n",
        "  @functools.wraps(func)              # preserved the information of used 'func'\n",
        "  def wrapper(*args, **kwargs):\n",
        "    print(\"start\")\n",
        "    func(*args, **kwargs)\n",
        "    print(\"end\")\n",
        "\n",
        "  return wrapper\n",
        "\n",
        "@start_end_decorators_updated\n",
        "def add5(x):\n",
        "  return x + 5\n",
        "\n",
        "print(help(add5))\n",
        "print(add5.__name__)"
      ],
      "metadata": {
        "colab": {
          "base_uri": "https://localhost:8080/"
        },
        "id": "NCF0TzuKkVJn",
        "outputId": "80bb47ff-f35e-4bf2-acad-e9a88fdab1dd"
      },
      "execution_count": 13,
      "outputs": [
        {
          "output_type": "stream",
          "name": "stdout",
          "text": [
            "Help on function add5 in module __main__:\n",
            "\n",
            "add5(x)\n",
            "\n",
            "None\n",
            "add5\n"
          ]
        }
      ]
    },
    {
      "cell_type": "markdown",
      "source": [
        "## Decorators with arguments\n",
        "\n",
        "> Note that functools.wraps is a decorator that takes an argument for itself. We can think of this as 2 inner functions, so an inner function within an inner function. To make this clearer, we look at another example: A repeat decorator that takes a number as input. Within this function, we have the actual decorator function that wraps our function and extends its behaviour within another inner function. In this case, it repeats the input function the given number of times.\n",
        "\n"
      ],
      "metadata": {
        "id": "0Xi0J1smzpSd"
      }
    },
    {
      "cell_type": "markdown",
      "source": [
        "### Execute Function N-number of times using decorator"
      ],
      "metadata": {
        "id": "OrunJ6srzZsl"
      }
    },
    {
      "cell_type": "code",
      "source": [
        "import functools\n",
        "\n",
        "def repeat(num_times: int):\n",
        "  def decorator_repeat(func):\n",
        "    @functools.wraps(func)\n",
        "    def wrapper(*args, **kwargs):\n",
        "      for _ in range(num_times):\n",
        "        result = func(*args, **kwargs)\n",
        "      return result\n",
        "    return wrapper\n",
        "  return decorator_repeat\n",
        "\n",
        "n = 5\n",
        "\n",
        "@repeat(num_times=n)\n",
        "def greet(name: str):\n",
        "  print(f\"Hello, {name}\")\n",
        "\n",
        "greet('Alex')"
      ],
      "metadata": {
        "colab": {
          "base_uri": "https://localhost:8080/"
        },
        "id": "_GfRZWAxms5X",
        "outputId": "a9ef7223-0eb4-4250-e3be-a19c4f883a7b"
      },
      "execution_count": 15,
      "outputs": [
        {
          "output_type": "stream",
          "name": "stdout",
          "text": [
            "Hello, Alex\n",
            "Hello, Alex\n",
            "Hello, Alex\n",
            "Hello, Alex\n",
            "Hello, Alex\n"
          ]
        }
      ]
    },
    {
      "cell_type": "markdown",
      "source": [
        "## Nested Decorators\n",
        "\n",
        "> We can apply several decorators to a function by stacking them on top of each other. The decorators are being executed in the order they are listed.\n",
        "\n"
      ],
      "metadata": {
        "id": "gJY936qtzspW"
      }
    },
    {
      "cell_type": "code",
      "source": [
        "def start_end_decorator_2(func):\n",
        "\n",
        "    @functools.wraps(func)\n",
        "    def wrapper(*args, **kwargs):\n",
        "        print('Start')\n",
        "        result = func(*args, **kwargs)\n",
        "        print('End')\n",
        "        return result\n",
        "    return wrapper\n",
        "\n",
        "\n",
        "def debug(func):\n",
        "  @functools.wraps(func)\n",
        "  def wrapper(*args, **kwargs):\n",
        "    args_repr = [repr(a) for a in args]\n",
        "    kwargs_repr = [f\"{k}={v!r}\" for k,v in kwargs.items()]\n",
        "    signature = \", \".join(args_repr + kwargs_repr)\n",
        "    print(f\"calling {func.__name__}({signature})\")\n",
        "    result = func(*args, **kwargs)\n",
        "    print(f\"{func.__name__!r} returned {result!r}\")\n",
        "    return result\n",
        "  return wrapper\n",
        "\n",
        "@debug\n",
        "@start_end_decorator_2\n",
        "def say_hello(name: str) -> str:\n",
        "  greeting = f\"Hello, {name}\"\n",
        "  print(greeting)\n",
        "  return greeting\n",
        "\n",
        "say_hello(name='Alex')"
      ],
      "metadata": {
        "colab": {
          "base_uri": "https://localhost:8080/",
          "height": 122
        },
        "id": "7gH1u0sXzKW8",
        "outputId": "775f5566-f771-468d-9369-59ee52e6c8b4"
      },
      "execution_count": 23,
      "outputs": [
        {
          "output_type": "stream",
          "name": "stdout",
          "text": [
            "calling say_hello(name='Alex')\n",
            "Start\n",
            "Hello, Alex\n",
            "End\n",
            "'say_hello' returned 'Hello, Alex'\n"
          ]
        },
        {
          "output_type": "execute_result",
          "data": {
            "text/plain": [
              "'Hello, Alex'"
            ],
            "application/vnd.google.colaboratory.intrinsic+json": {
              "type": "string"
            }
          },
          "metadata": {},
          "execution_count": 23
        }
      ]
    },
    {
      "cell_type": "markdown",
      "source": [
        "## Class Decorators\n",
        "\n"
      ],
      "metadata": {
        "id": "iFq7x3lI6v5j"
      }
    },
    {
      "cell_type": "markdown",
      "source": [
        "We can also use a class as a decorator. Therefore, we have to implement the ______call__() method to make our object callable. Class decorators are typically used to maintain a state, e.g. here we keep track of the number of times our function is executed. The ______call__ method does essentially the same thing as the wrapper() method we have seen earlier. It adds some functionality, executes the function, and returns its result.\n",
        "* Note that here we use functools.update_wrapper() instead of functools.wraps to preserve the information about our function."
      ],
      "metadata": {
        "id": "vCIg6_UB8Mvh"
      }
    },
    {
      "cell_type": "code",
      "source": [
        "import functools\n",
        "\n",
        "class CountCalls:\n",
        "    # the init needs to have the func as argument and stores it\n",
        "    def __init__(self, func):\n",
        "        functools.update_wrapper(self, func)\n",
        "        self.func = func\n",
        "        self.num_calls = 0\n",
        "\n",
        "    # extend functionality, execute function, and return the result\n",
        "    def __call__(self, *args, **kwargs):\n",
        "        self.num_calls += 1\n",
        "        print(f\"Call {self.num_calls} of {self.func.__name__!r}\")\n",
        "        return self.func(*args, **kwargs)\n",
        "\n",
        "@CountCalls\n",
        "def say_hello(name: str):\n",
        "    print(f\"Hello! {name}\")\n",
        "\n",
        "say_hello('Andy')\n",
        "say_hello('Gaurav')\n",
        "say_hello('Vivan')"
      ],
      "metadata": {
        "colab": {
          "base_uri": "https://localhost:8080/"
        },
        "id": "qMSlPXJy3WT5",
        "outputId": "2750a001-91d0-4446-b093-9197a7e44db3"
      },
      "execution_count": 26,
      "outputs": [
        {
          "output_type": "stream",
          "name": "stdout",
          "text": [
            "Call 1 of 'say_hello'\n",
            "Hello! Andy\n",
            "Call 2 of 'say_hello'\n",
            "Hello! Gaurav\n",
            "Call 3 of 'say_hello'\n",
            "Hello! Vivan\n"
          ]
        }
      ]
    }
  ]
}