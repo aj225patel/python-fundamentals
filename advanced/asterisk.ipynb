{
  "nbformat": 4,
  "nbformat_minor": 0,
  "metadata": {
    "colab": {
      "provenance": [],
      "toc_visible": true,
      "authorship_tag": "ABX9TyNzrUbUyF+wRvIbZed86UcR",
      "include_colab_link": true
    },
    "kernelspec": {
      "name": "python3",
      "display_name": "Python 3"
    },
    "language_info": {
      "name": "python"
    }
  },
  "cells": [
    {
      "cell_type": "markdown",
      "metadata": {
        "id": "view-in-github",
        "colab_type": "text"
      },
      "source": [
        "<a href=\"https://colab.research.google.com/github/aj225patel/python-fundamentals/blob/main/advanced/asterisk.ipynb\" target=\"_parent\"><img src=\"https://colab.research.google.com/assets/colab-badge.svg\" alt=\"Open In Colab\"/></a>"
      ]
    },
    {
      "cell_type": "markdown",
      "source": [
        "# **Asterisc in Python**"
      ],
      "metadata": {
        "id": "AitoxzY77bRw"
      }
    },
    {
      "cell_type": "markdown",
      "source": [
        "## Multiplication and power operations"
      ],
      "metadata": {
        "id": "hDg4Y37a7n-W"
      }
    },
    {
      "cell_type": "code",
      "execution_count": 1,
      "metadata": {
        "colab": {
          "base_uri": "https://localhost:8080/"
        },
        "id": "XmVPfXaS3azZ",
        "outputId": "7f8b54ec-f92e-4127-ef2c-56f75c968e03"
      },
      "outputs": [
        {
          "output_type": "stream",
          "name": "stdout",
          "text": [
            "35\n"
          ]
        }
      ],
      "source": [
        "result = 5 * 7\n",
        "print(result)"
      ]
    },
    {
      "cell_type": "code",
      "source": [
        "result = 2 ** 4\n",
        "print(result)"
      ],
      "metadata": {
        "colab": {
          "base_uri": "https://localhost:8080/"
        },
        "id": "HXIRnBHH3l6o",
        "outputId": "6331a200-0707-40a0-e2a3-8eeeb6c06754"
      },
      "execution_count": 2,
      "outputs": [
        {
          "output_type": "stream",
          "name": "stdout",
          "text": [
            "16\n"
          ]
        }
      ]
    },
    {
      "cell_type": "markdown",
      "source": [
        "## Creation of list, tuple, or string with repeated elements"
      ],
      "metadata": {
        "id": "8oVg2PEU7rXZ"
      }
    },
    {
      "cell_type": "code",
      "source": [
        "zeros = [0] * 10\n",
        "print(zeros)"
      ],
      "metadata": {
        "colab": {
          "base_uri": "https://localhost:8080/"
        },
        "id": "vnHkyxYU3x_C",
        "outputId": "f2b52f98-45ac-401e-af93-250794f21058"
      },
      "execution_count": 3,
      "outputs": [
        {
          "output_type": "stream",
          "name": "stdout",
          "text": [
            "[0, 0, 0, 0, 0, 0, 0, 0, 0, 0]\n"
          ]
        }
      ]
    },
    {
      "cell_type": "code",
      "source": [
        "zeros = [0, 1] * 10\n",
        "zeros"
      ],
      "metadata": {
        "colab": {
          "base_uri": "https://localhost:8080/"
        },
        "id": "Rkijq-h637Zy",
        "outputId": "0e7cde17-219a-45df-82b4-c1fb4a5f6def"
      },
      "execution_count": 4,
      "outputs": [
        {
          "output_type": "execute_result",
          "data": {
            "text/plain": [
              "[0, 1, 0, 1, 0, 1, 0, 1, 0, 1, 0, 1, 0, 1, 0, 1, 0, 1, 0, 1]"
            ]
          },
          "metadata": {},
          "execution_count": 4
        }
      ]
    },
    {
      "cell_type": "code",
      "source": [
        "zeros = (0, 1) * 10\n",
        "zeros"
      ],
      "metadata": {
        "colab": {
          "base_uri": "https://localhost:8080/"
        },
        "id": "x9pdhxX14DMR",
        "outputId": "9dfdb1b0-f99a-4717-d523-0936c9d1c29f"
      },
      "execution_count": 5,
      "outputs": [
        {
          "output_type": "execute_result",
          "data": {
            "text/plain": [
              "(0, 1, 0, 1, 0, 1, 0, 1, 0, 1, 0, 1, 0, 1, 0, 1, 0, 1, 0, 1)"
            ]
          },
          "metadata": {},
          "execution_count": 5
        }
      ]
    },
    {
      "cell_type": "code",
      "source": [
        "st = \"AB\" * 10\n",
        "st"
      ],
      "metadata": {
        "colab": {
          "base_uri": "https://localhost:8080/",
          "height": 35
        },
        "id": "fi23qg0e4KO4",
        "outputId": "54ef224b-6b36-48d8-d193-76cdc4da2bf7"
      },
      "execution_count": 7,
      "outputs": [
        {
          "output_type": "execute_result",
          "data": {
            "text/plain": [
              "'ABABABABABABABABABAB'"
            ],
            "application/vnd.google.colaboratory.intrinsic+json": {
              "type": "string"
            }
          },
          "metadata": {},
          "execution_count": 7
        }
      ]
    },
    {
      "cell_type": "markdown",
      "source": [
        "## ***args** , **kwargs , and keyword-only arguments"
      ],
      "metadata": {
        "id": "VuMEGIPt727w"
      }
    },
    {
      "cell_type": "markdown",
      "source": [
        "* Use *args for variable-length arguments\n",
        "* Use **kwargs for variable-length keyword arguments\n",
        "* Use *, followed by more function parameters to enforce keyword-only arguments"
      ],
      "metadata": {
        "id": "5qxx5NNt8l1h"
      }
    },
    {
      "cell_type": "code",
      "source": [
        "def my_function(*args, **kwargs):\n",
        "    for arg in args:\n",
        "        print(arg)\n",
        "    for key in kwargs:\n",
        "        print(key, kwargs[key])\n",
        "\n",
        "my_function(\"Hey\", 3, [0, 1, 2], name=\"Alex\", age=8)\n",
        "\n",
        "# Parameters after '*' or '*identifier' are keyword-only parameters and may only be passed using keyword arguments.\n",
        "def my_function2(name, *, age):\n",
        "    print(name)\n",
        "    print(age)\n",
        "\n",
        "# my_function2(\"Michael\", 5) --> this would raise a TypeError\n",
        "my_function2(\"Michael\", age=5)"
      ],
      "metadata": {
        "colab": {
          "base_uri": "https://localhost:8080/"
        },
        "id": "vk_rTLZr74Yy",
        "outputId": "1a742ee5-e7c0-4187-d6fe-69d2107c4461"
      },
      "execution_count": 19,
      "outputs": [
        {
          "output_type": "stream",
          "name": "stdout",
          "text": [
            "Hey\n",
            "3\n",
            "[0, 1, 2]\n",
            "name Alex\n",
            "age 8\n",
            "Michael\n",
            "5\n"
          ]
        }
      ]
    },
    {
      "cell_type": "markdown",
      "source": [
        "## Unpacking for function arguments"
      ],
      "metadata": {
        "id": "crHheso98g5g"
      }
    },
    {
      "cell_type": "markdown",
      "source": [
        "* Lists/tuples/sets/strings can be unpacked into function arguments with one * if the length matches the parameters.\n",
        "* Dictionaries can be unpacked with two ** if the length and the keys match the parameters."
      ],
      "metadata": {
        "id": "ndCR_vi68uYu"
      }
    },
    {
      "cell_type": "code",
      "source": [
        "def foo(a, b, c):\n",
        "    print(a, b, c)\n",
        "\n",
        "# length must match\n",
        "my_list = [1, 2, 3]\n",
        "foo(*my_list)\n",
        "\n",
        "my_string = \"ABC\"\n",
        "foo(*my_string)\n",
        "\n",
        "# length and keys must match\n",
        "my_dict = {'a': 4, 'b': 5, 'c': 6}\n",
        "foo(**my_dict)"
      ],
      "metadata": {
        "colab": {
          "base_uri": "https://localhost:8080/"
        },
        "id": "pOjneQYI8kyq",
        "outputId": "425b8b68-0bc0-4ddd-8d8f-d03aff2e20de"
      },
      "execution_count": 20,
      "outputs": [
        {
          "output_type": "stream",
          "name": "stdout",
          "text": [
            "1 2 3\n",
            "A B C\n",
            "4 5 6\n"
          ]
        }
      ]
    },
    {
      "cell_type": "markdown",
      "source": [
        "## Unpacking containers\n",
        "\n",
        "> Unpack the elements of a list, tuple, or set into single and multiple remaining elements. Note that multiple elements are combined in a list, even if the unpacked container is a tuple or a set.\n",
        "\n"
      ],
      "metadata": {
        "id": "hk__t73j9ABV"
      }
    },
    {
      "cell_type": "code",
      "source": [
        "a = [1, 2, 3, 4, 5, 6]\n",
        "*beginning, last = a\n",
        "print(f\"beginning = {beginning}\\nlast = {last}\")"
      ],
      "metadata": {
        "colab": {
          "base_uri": "https://localhost:8080/"
        },
        "id": "kwejG3nw4RvM",
        "outputId": "bbd55299-1551-4b3e-effc-b63bea4df8e8"
      },
      "execution_count": 9,
      "outputs": [
        {
          "output_type": "stream",
          "name": "stdout",
          "text": [
            "beginning = [1, 2, 3, 4, 5]\n",
            "last = 6\n"
          ]
        }
      ]
    },
    {
      "cell_type": "code",
      "source": [
        "a = (1, 2, 3, 4, 5, 6)\n",
        "*beginning, last = a   # unpacking always returns a list\n",
        "print(f\"beginning list = {beginning}\\nlast = {last}\")"
      ],
      "metadata": {
        "colab": {
          "base_uri": "https://localhost:8080/"
        },
        "id": "5UWFBwPs5S0j",
        "outputId": "de0563f6-195e-4eda-8c26-5f1dfb81b4a3"
      },
      "execution_count": 11,
      "outputs": [
        {
          "output_type": "stream",
          "name": "stdout",
          "text": [
            "beginning list = [1, 2, 3, 4, 5]\n",
            "last = 6\n"
          ]
        }
      ]
    },
    {
      "cell_type": "code",
      "source": [
        "a = [1, 2, 3, 4, 5, 6]\n",
        "beginning, *last = a\n",
        "print(f\"beginning = {beginning}\\nlast = {last}\")"
      ],
      "metadata": {
        "colab": {
          "base_uri": "https://localhost:8080/"
        },
        "id": "jyb2nyOi5hv_",
        "outputId": "7dfc070f-da62-4aab-8a8e-f3e23fcb289c"
      },
      "execution_count": 12,
      "outputs": [
        {
          "output_type": "stream",
          "name": "stdout",
          "text": [
            "beginning = 1\n",
            "last = [2, 3, 4, 5, 6]\n"
          ]
        }
      ]
    },
    {
      "cell_type": "code",
      "source": [
        "a = [1, 2, 3, 4, 5, 6]\n",
        "beginning, *middle, last = a\n",
        "print(f\"beginning = {beginning}\\nmiddle = {middle}\\nlast = {last}\")"
      ],
      "metadata": {
        "colab": {
          "base_uri": "https://localhost:8080/"
        },
        "id": "uu7JEyPQ5zBr",
        "outputId": "2f444688-04dc-49b4-be3b-bcd2ae415873"
      },
      "execution_count": 13,
      "outputs": [
        {
          "output_type": "stream",
          "name": "stdout",
          "text": [
            "beginning = 1\n",
            "middle = [2, 3, 4, 5]\n",
            "last = 6\n"
          ]
        }
      ]
    },
    {
      "cell_type": "code",
      "source": [
        "a = [1, 2, 3, 4, 5, 6]\n",
        "beginning, *middle, secondLast, last = a\n",
        "print(f\"beginning = {beginning}\\nmiddle = {middle}\\nsecondLast = {secondLast}\\nlast = {last}\")"
      ],
      "metadata": {
        "colab": {
          "base_uri": "https://localhost:8080/"
        },
        "id": "IfkMB5bc5_3Q",
        "outputId": "5e5b9c12-8ea9-4aba-c3dd-1336ac8a1c61"
      },
      "execution_count": 15,
      "outputs": [
        {
          "output_type": "stream",
          "name": "stdout",
          "text": [
            "beginning = 1\n",
            "middle = [2, 3, 4]\n",
            "secondLast = 5\n",
            "last = 6\n"
          ]
        }
      ]
    },
    {
      "cell_type": "markdown",
      "source": [
        "## Merge iterables into a list / Merge dictionaries\n",
        "\n",
        "> This is possible since Python 3.5 thanks to PEP 448 (https://www.python.org/dev/peps/pep-0448/).\n",
        "\n"
      ],
      "metadata": {
        "id": "soM3caav9Qpj"
      }
    },
    {
      "cell_type": "code",
      "source": [
        "my_tuple = (1, 2, 3)\n",
        "my_list = [4, 5, 6]\n",
        "\n",
        "new_list = [*my_tuple, *my_list]\n",
        "new_list"
      ],
      "metadata": {
        "colab": {
          "base_uri": "https://localhost:8080/"
        },
        "id": "ciStKA0v6OL3",
        "outputId": "950328ff-edfa-4cee-cff0-0187594d5af5"
      },
      "execution_count": 16,
      "outputs": [
        {
          "output_type": "execute_result",
          "data": {
            "text/plain": [
              "[1, 2, 3, 4, 5, 6]"
            ]
          },
          "metadata": {},
          "execution_count": 16
        }
      ]
    },
    {
      "cell_type": "code",
      "source": [
        "my_tuple = (1, 2, 3)\n",
        "my_set = [4, 5, 6]\n",
        "\n",
        "new_set = [*my_tuple, *my_set]\n",
        "new_set"
      ],
      "metadata": {
        "colab": {
          "base_uri": "https://localhost:8080/"
        },
        "id": "2htSQii76pHF",
        "outputId": "d057a49c-8361-4678-d343-21d0054b93a9"
      },
      "execution_count": 17,
      "outputs": [
        {
          "output_type": "execute_result",
          "data": {
            "text/plain": [
              "[1, 2, 3, 4, 5, 6]"
            ]
          },
          "metadata": {},
          "execution_count": 17
        }
      ]
    },
    {
      "cell_type": "code",
      "source": [
        "dict_a = {'a':1, 'b':2}\n",
        "dict_b = {'c':3, 'd':4}\n",
        "\n",
        "new_dict = {**dict_a, **dict_b}\n",
        "new_dict"
      ],
      "metadata": {
        "colab": {
          "base_uri": "https://localhost:8080/"
        },
        "id": "kOR7Q3_I60OY",
        "outputId": "c2822eca-8ca0-405c-c981-a98d9ebbea80"
      },
      "execution_count": 18,
      "outputs": [
        {
          "output_type": "execute_result",
          "data": {
            "text/plain": [
              "{'a': 1, 'b': 2, 'c': 3, 'd': 4}"
            ]
          },
          "metadata": {},
          "execution_count": 18
        }
      ]
    }
  ]
}