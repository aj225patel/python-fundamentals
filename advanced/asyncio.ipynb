{
  "nbformat": 4,
  "nbformat_minor": 0,
  "metadata": {
    "colab": {
      "provenance": [],
      "toc_visible": true,
      "authorship_tag": "ABX9TyP6hMHuKSUx/t/V1Hu085yD",
      "include_colab_link": true
    },
    "kernelspec": {
      "name": "python3",
      "display_name": "Python 3"
    },
    "language_info": {
      "name": "python"
    }
  },
  "cells": [
    {
      "cell_type": "markdown",
      "metadata": {
        "id": "view-in-github",
        "colab_type": "text"
      },
      "source": [
        "<a href=\"https://colab.research.google.com/github/aj225patel/python-fundamentals/blob/main/advanced/asyncio.ipynb\" target=\"_parent\"><img src=\"https://colab.research.google.com/assets/colab-badge.svg\" alt=\"Open In Colab\"/></a>"
      ]
    },
    {
      "cell_type": "markdown",
      "source": [
        "# **Asynchronous Programming in Python**"
      ],
      "metadata": {
        "id": "sbmGaVf48F-w"
      }
    },
    {
      "cell_type": "markdown",
      "source": [
        "## Concurrency Vs Parallelism in Python\n",
        "\n",
        "> Concurrency and parallelism are concepts related to the execution of multiple tasks in a program. In Python, these concepts are essential for optimizing performance in programs that need to handle multiple tasks simultaneously. Let's explore each term:\n",
        "\n"
      ],
      "metadata": {
        "id": "9Sx5mpUXIbGl"
      }
    },
    {
      "cell_type": "markdown",
      "source": [
        "### 1. Concurrency\n",
        "\n",
        "> **Definition:** Concurrency is a programming concept where multiple tasks make progress together, but not necessarily simultaneously. It doesn't necessarily mean that tasks are executing at the exact same time, but rather they appear to be making progress simultaneously due to interleaved execution.\n",
        "\n",
        "**Use Cases:** Concurrency is useful when dealing with tasks that may have to wait for external events, such as I/O operations (reading/writing to files or network communication).\n",
        "\n",
        "**Implementation in Python:**\n",
        "* **Threading:** Python provides a threading module that allows the creation of threads for concurrent execution. However, due to the Global Interpreter Lock (GIL) in CPython, threading may not provide true parallelism for CPU-bound tasks.\n",
        "* **Asynchronous I/O:** Python also supports asynchronous programming using the asyncio module. This is particularly effective for I/O-bound tasks that can benefit from non-blocking operations.\n",
        "\n"
      ],
      "metadata": {
        "id": "DZaR9NagIjTS"
      }
    },
    {
      "cell_type": "markdown",
      "source": [
        "### 2. Parallelism:\n",
        "\n",
        "> **Definition:** Parallelism involves the simultaneous execution of multiple tasks, where each task is broken down into smaller subtasks that can be processed independently.\n",
        "\n",
        "**Use Cases:** Parallelism is most effective for CPU-bound tasks that can be divided into independent subproblems.\n",
        "\n",
        "**Implementation in Python:**\n",
        "* **Multiprocessing:** Python's multiprocessing module allows the creation of separate processes, each with its own interpreter and memory space. This allows true parallelism since each process can run on a separate CPU core. The GIL does not affect multiprocessing.\n",
        "* **concurrent.futures:** This module provides a high-level interface for asynchronously executing callables. It can use both threading and multiprocessing, depending on the specific executor used.\n",
        "\n",
        "Here's a simple example to illustrate the difference:\n"
      ],
      "metadata": {
        "id": "jze07TECJT3v"
      }
    },
    {
      "cell_type": "code",
      "source": [
        "import concurrent.futures\n",
        "import time\n",
        "\n",
        "def task(n):\n",
        "    print(f\"Task {n} started\")\n",
        "    time.sleep(2)\n",
        "    print(f\"Task {n} completed\")\n",
        "\n",
        "# Concurrency using threading\n",
        "with concurrent.futures.ThreadPoolExecutor() as executor:\n",
        "    executor.map(task, range(3))\n",
        "\n",
        "# Parallelism using multiprocessing\n",
        "with concurrent.futures.ProcessPoolExecutor() as executor:\n",
        "    executor.map(task, range(3))"
      ],
      "metadata": {
        "colab": {
          "base_uri": "https://localhost:8080/"
        },
        "id": "r02dHmr1KYep",
        "outputId": "3e9307aa-a0db-4950-cd73-791906ae780a"
      },
      "execution_count": null,
      "outputs": [
        {
          "output_type": "stream",
          "name": "stdout",
          "text": [
            "Task 0 started\n",
            "Task 1 started\n",
            "Task 2 started\n",
            "Task 0 completed\n",
            "Task 1 completed\n",
            "Task 2 completed\n",
            "Task 0 started\n",
            "Task 1 started\n",
            "Task 0 completed\n",
            "Task 1 completedTask 2 started\n",
            "\n",
            "Task 2 completed\n"
          ]
        }
      ]
    },
    {
      "cell_type": "markdown",
      "source": [
        "In this example, the tasks are executed concurrently using threads and in parallel using processes. Note that due to the GIL, threads may not provide true parallelism for CPU-bound tasks, and in such cases, multiprocessing is a more suitable choice.\n",
        "\n",
        "\n",
        "\n",
        "\n",
        "\n"
      ],
      "metadata": {
        "id": "keGpggkoKxU9"
      }
    },
    {
      "cell_type": "markdown",
      "source": [
        "## Asynchronous vs. synchronous programming\n",
        "\n",
        "> Ultimately, the choice comes down to operational dependencies. Do you want the start of an operation to depend on another operation’s completion, or do you want it to run independently?\n",
        "\n",
        "**Asynchronous** is a non-blocking architecture, so the execution of one task isn’t dependent on another. Tasks can run simultaneously.\n",
        "\n",
        "**Synchronous** is a blocking architecture, so the execution of each operation depends on completing the one before it. Each task requires an answer before moving on to the next iteration.<br><br>\n",
        "\n",
        "The differences between asynchronous and synchronous include:\n",
        "\n",
        "* Async is non-blocking, which means it will send multiple requests to a server.\n",
        "* Sync is blocking — it will only send the server one request at a time and wait for that request to be answered by the server.\n",
        "* Async increases throughput because multiple operations can run at the same time.\n",
        "* Sync is slower and more methodical.\n",
        "\n"
      ],
      "metadata": {
        "id": "leVMKfts7Qpe"
      }
    },
    {
      "cell_type": "markdown",
      "source": [
        "## Subroutines and Coroutines"
      ],
      "metadata": {
        "id": "qOj7GCJD2IYG"
      }
    },
    {
      "cell_type": "markdown",
      "source": [
        "![subroutine_vs_coroutine.jpg](data:image/jpeg;base64,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)"
      ],
      "metadata": {
        "id": "BwTSht0Hub1N"
      }
    },
    {
      "cell_type": "markdown",
      "source": [
        "### Subroutines\n",
        "\n",
        "> Subroutines are blocks of code in Python designed to perform specific tasks. They are categorized into two main types: functions and methods.\n",
        "\n",
        "* Functions: Functions are independent, reusable blocks of code defined using the def keyword. They can accept arguments and return values. Functions enhance code modularity, readability, and reusability.\n",
        "* Methods: Methods are functions associated with objects or classes. They operate on the attributes and data within a class and are called using the dot notation on instances.\n",
        "\n"
      ],
      "metadata": {
        "id": "y955fxpr2Ux4"
      }
    },
    {
      "cell_type": "markdown",
      "source": [
        "### Coroutines\n",
        "\n",
        "> Coroutines are a special type of function in Python used for asynchronous programming. They allow cooperative multitasking and non-blocking I/O operations. Coroutines are defined using the async and await keywords and are managed by an event loop.\n",
        "\n",
        "* **Async Keyword:** Coroutines are defined with the async keyword, signifying their asynchronous nature.\n",
        "\n",
        "* **Await Keyword:** The await keyword is used within coroutines to pause execution until an asynchronous operation completes.\n",
        "\n",
        "\n",
        "\n"
      ],
      "metadata": {
        "id": "ns1kDiNw57eR"
      }
    },
    {
      "cell_type": "markdown",
      "source": [
        "## Asynchronous Programming with Asyncio in Python\n",
        "> Asyncio is a Python library that is used for concurrent programming, including the use of async iterator in Python. It is **not multi-threading or multi-processing**. Asyncio is used as a foundation for multiple Python asynchronous frameworks that provide high-performance network and web servers, database connection libraries, distributed task queues, etc\n",
        "\n",
        "In the example below, we’ll create a function and make it asynchronous using the **async** keyword. <br><br>\n",
        "To achieve this, an **async** keyword is used. The program will wait for 1 second after the first print statement is executed and then print the next print statement and so on. Note that we’ll make it sleep (or wait) with the help of **await asyncio.sleep(1)** keyword, not with time.sleep() (Because, time.sleep() is not awaitable method. await method suspends the surrounding coroutine).<br><br>\n",
        " To run the program, we’ll have to use the run() function as it is given below. This asynchronous approach is a fundamental concept in Python programming and is particularly useful when working with async iterators in Python.\n",
        "<br><br>\n",
        "**Note:** asyncio.run() cannot be called when another asyncio event loop is running in the same thread. In our case, colab is already running an event loop, so the below statement will throw a `RuntimeError: asyncio.run() cannot be called from a running event loop`.\n",
        "\n",
        "So, we use **await run()** instead of **asyncio.run()**  in colab or jupyter notebook.\n",
        "\n"
      ],
      "metadata": {
        "id": "XjhtvFBkHE73"
      }
    },
    {
      "cell_type": "code",
      "execution_count": null,
      "metadata": {
        "colab": {
          "base_uri": "https://localhost:8080/"
        },
        "id": "dgjKE8ZESNBJ",
        "outputId": "7a5fe587-3d37-414e-af91-2d8b234925c6"
      },
      "outputs": [
        {
          "output_type": "stream",
          "name": "stdout",
          "text": [
            "This is \n",
            "asynchronous programming\n",
            "and not multi-threading\n"
          ]
        }
      ],
      "source": [
        "\n",
        "import asyncio\n",
        "\n",
        "async def fn():\n",
        "    print('This is ')\n",
        "    await asyncio.sleep(1)\n",
        "    print('asynchronous programming')\n",
        "    await asyncio.sleep(1)\n",
        "    print('and not multi-threading')\n",
        "\n",
        "await fn()"
      ]
    },
    {
      "cell_type": "markdown",
      "source": [
        "## Async Event Loop in Python\n",
        "\n",
        "In the program below, we’re using await fn2() after the first print statement. It simply means to wait until the other function is done executing. So, first, it’s gonna print “one,” then the control shifts to the second function, and “two” and “three” are printed after which the control shifts back to the first function (because fn() has done its work) and then “four” and “five” are printed. This interaction demonstrates the principles of asynchronous programming, which are especially relevant when working with async iterators in Python."
      ],
      "metadata": {
        "id": "EurLCmstL1Je"
      }
    },
    {
      "cell_type": "code",
      "source": [
        "import asyncio\n",
        "\n",
        "async def fn():\n",
        "\n",
        "\tprint(\"one\")\n",
        "\tawait asyncio.sleep(1)\n",
        "\tawait fn2()\n",
        "\tprint('four')\n",
        "\tawait asyncio.sleep(1)\n",
        "\tprint('five')\n",
        "\tawait asyncio.sleep(1)\n",
        "\n",
        "async def fn2():\n",
        "\tawait asyncio.sleep(1)\n",
        "\tprint(\"two\")\n",
        "\tawait asyncio.sleep(1)\n",
        "\tprint(\"three\")\n",
        "\n",
        "if __name__ == \"__main__\":\n",
        "  await fn()"
      ],
      "metadata": {
        "colab": {
          "base_uri": "https://localhost:8080/"
        },
        "id": "PKt2Wu1-OGwu",
        "outputId": "c39721ec-661d-407c-80a0-ae8e0ba0936b"
      },
      "execution_count": null,
      "outputs": [
        {
          "output_type": "stream",
          "name": "stdout",
          "text": [
            "one\n",
            "two\n",
            "three\n",
            "four\n",
            "five\n"
          ]
        }
      ]
    },
    {
      "cell_type": "markdown",
      "source": [
        "Now if you want the program to be actually asynchronous, In the actual order of execution we’ll need to make tasks in order to accomplish this. This means that the other function will begin to run anytime if there is any free time using **asyncio.create_task(fn2())**"
      ],
      "metadata": {
        "id": "JLGcrTCHOlS7"
      }
    },
    {
      "cell_type": "markdown",
      "source": [
        "## I/O-bound tasks using asyncio.sleep()"
      ],
      "metadata": {
        "id": "ke4uRm8XQQmM"
      }
    },
    {
      "cell_type": "markdown",
      "source": [
        "In this example, the func1(), func2(), and func3() functions are simulated I/O-bound tasks using asyncio.sleep(). They each “wait” for a different amount of time to simulate varying levels of work.<br><br>\n",
        "When you run this code, you’ll see that the tasks start concurrently, perform their work asynchronously, and then complete in parallel. The order of completion might vary depending on how the asyncio event loop schedules the tasks. This asynchronous behavior is fundamental to understanding how to manage tasks efficiently, especially when working with async iterators in Python."
      ],
      "metadata": {
        "id": "Ma98g3cwQUCH"
      }
    },
    {
      "cell_type": "code",
      "source": [
        "import asyncio\n",
        "\n",
        "\n",
        "async def func1():\n",
        "\tprint(\"Function 1 started..\")\n",
        "\tawait asyncio.sleep(2)\n",
        "\tprint(\"Function 1 Ended\")\n",
        "\n",
        "\n",
        "async def func2():\n",
        "\tprint(\"Function 2 started..\")\n",
        "\tawait asyncio.sleep(3)\n",
        "\tprint(\"Function 2 Ended\")\n",
        "\n",
        "\n",
        "async def func3():\n",
        "\tprint(\"Function 3 started..\")\n",
        "\tawait asyncio.sleep(1)\n",
        "\tprint(\"Function 3 Ended\")\n",
        "\n",
        "\n",
        "async def main():\n",
        "\tL = await asyncio.gather(\n",
        "\t\tfunc1(),\n",
        "\t\tfunc2(),\n",
        "\t\tfunc3(),\n",
        "\t)\n",
        "\tprint(\"Main Ended..\")\n",
        "\n",
        "\n",
        "if __name__ == \"__main__\":\n",
        "  await main()"
      ],
      "metadata": {
        "colab": {
          "base_uri": "https://localhost:8080/"
        },
        "id": "Kgh6gDhkQdhO",
        "outputId": "287ef6cc-dc42-42dc-9809-060a32e53022"
      },
      "execution_count": null,
      "outputs": [
        {
          "output_type": "stream",
          "name": "stdout",
          "text": [
            "Function 1 started..\n",
            "Function 2 started..\n",
            "Function 3 started..\n",
            "Function 3 Ended\n",
            "Function 1 Ended\n",
            "Function 2 Ended\n",
            "Main Ended..\n"
          ]
        }
      ]
    },
    {
      "cell_type": "markdown",
      "source": [
        "## Difference Between Asynchronous and Multi-Threading Programming\n",
        "\n",
        "* Asynchronous programming allows only one part of a program to run at a specific time.\n",
        "* Consider three functions in a Python program: fn1(), fn2(), and fn3().\n",
        "* In asynchronous programming, if fn1() is not actively executing (e.g., it’s asleep, waiting, or has completed its task), it won’t block the entire program.\n",
        "* Instead, the program optimizes CPU time by allowing other functions (e.g., fn2()) to execute while fn1() is inactive.\n",
        "* Only when fn2() finishes or sleeps, the third function, fn3(), starts executing.\n",
        "* This concept of asynchronous programming ensures that one task is performed at a time, and other tasks can proceed independently.\n",
        "* In contrast, in multi-threading or multi-processing, all three functions run concurrently without waiting for each other to finish.\n",
        "* With asynchronous programming, specific functions are designated as asynchronous using the async keyword, and the asyncio Python library helps manage this asynchronous behavior."
      ],
      "metadata": {
        "id": "LVUu0Bh7RMzL"
      }
    },
    {
      "cell_type": "markdown",
      "source": [
        "## With Vs Without Asyncio"
      ],
      "metadata": {
        "id": "IKvdNEwTz7pa"
      }
    },
    {
      "cell_type": "code",
      "source": [
        "import time\n",
        "\n",
        "def brewCofee():\n",
        "  print('Start brewCofee()')\n",
        "  time.sleep(3)\n",
        "  print('End brewCofee()')\n",
        "  return 'Coffe ready'\n",
        "\n",
        "def toastBagel():\n",
        "  print('Start toastBagel()')\n",
        "  time.sleep(2)\n",
        "  print('End toastBagel()')\n",
        "  return 'Bagel toasted'\n",
        "\n",
        "def main():\n",
        "  start_time = time.time()\n",
        "\n",
        "  result_cofee = brewCofee()\n",
        "  result_Bagel = toastBagel()\n",
        "\n",
        "  end_time = time.time()\n",
        "  elapsed_time = end_time - start_time\n",
        "\n",
        "  print(f'result of brewCofee(): {result_cofee}')\n",
        "  print(f'result of toastBagel(): {result_Bagel}')\n",
        "  print(f'total execution time: {elapsed_time: .2f} seconds')\n",
        "\n",
        "if __name__ == \"__main__\":\n",
        "  main()"
      ],
      "metadata": {
        "colab": {
          "base_uri": "https://localhost:8080/"
        },
        "id": "oRp-x4bbvkv8",
        "outputId": "d02a2c13-46c7-4971-a469-c335cf088ef1"
      },
      "execution_count": null,
      "outputs": [
        {
          "output_type": "stream",
          "name": "stdout",
          "text": [
            "Start brewCofee()\n",
            "End brewCofee()\n",
            "Start toastBagel()\n",
            "End toastBagel()\n",
            "result of brewCofee(): Coffe ready\n",
            "result of toastBagel(): Bagel toasted\n",
            "total execution time:  5.01 seconds\n"
          ]
        }
      ]
    },
    {
      "cell_type": "code",
      "source": [
        "import time\n",
        "import asyncio\n",
        "\n",
        "async def brewCofee():\n",
        "  print('Start brewCofee()')\n",
        "  await asyncio.sleep(3)\n",
        "  print('End brewCofee()')\n",
        "  return 'Coffe ready'\n",
        "\n",
        "async def toastBagel():\n",
        "  print('Start toastBagel()')\n",
        "  await asyncio.sleep(2)\n",
        "  print('End toastBagel()')\n",
        "  return 'Bagel toasted'\n",
        "\n",
        "async def main():\n",
        "  start_time = time.time()\n",
        "\n",
        "  batch = asyncio.gather(brewCofee(), toastBagel())\n",
        "  # here brewCofee() and toastBagel() are not typical function call\n",
        "  # But, they are coroutine objects\n",
        "  # which gives ayncio the ability to start and stop coroutines\n",
        "\n",
        "  result_cofee, result_Bagel = await batch\n",
        "\n",
        "  end_time = time.time()\n",
        "  elapsed_time = end_time - start_time\n",
        "\n",
        "  print(f'result of brewCofee(): {result_cofee}')\n",
        "  print(f'result of toastBagel(): {result_Bagel}')\n",
        "  print(f'total execution time: {elapsed_time: .2f} seconds')\n",
        "\n",
        "if __name__ == \"__main__\":\n",
        "  # asyncio.run(main())\n",
        "  await main()"
      ],
      "metadata": {
        "colab": {
          "base_uri": "https://localhost:8080/"
        },
        "id": "X7nSJm6jxzoL",
        "outputId": "fb4e69cb-e322-4518-96f5-a946bd7531ae"
      },
      "execution_count": null,
      "outputs": [
        {
          "output_type": "stream",
          "name": "stdout",
          "text": [
            "Start brewCofee()\n",
            "Start toastBagel()\n",
            "End toastBagel()\n",
            "End brewCofee()\n",
            "result of brewCofee(): Coffe ready\n",
            "result of toastBagel(): Bagel toasted\n",
            "total execution time:  3.00 seconds\n"
          ]
        }
      ]
    },
    {
      "cell_type": "markdown",
      "source": [
        "### Alternate Approach by creating tasks"
      ],
      "metadata": {
        "id": "8yboYaPn0u59"
      }
    },
    {
      "cell_type": "code",
      "source": [
        "import time\n",
        "import asyncio\n",
        "\n",
        "async def brewCofee():\n",
        "  print('Start brewCofee()')\n",
        "  await asyncio.sleep(3)\n",
        "  print('End brewCofee()')\n",
        "  return 'Coffe ready'\n",
        "\n",
        "async def toastBagel():\n",
        "  print('Start toastBagel()')\n",
        "  await asyncio.sleep(2)\n",
        "  print('End toastBagel()')\n",
        "  return 'Bagel toasted'\n",
        "\n",
        "async def main():\n",
        "  start_time = time.time()\n",
        "\n",
        "  cofee_task = asyncio.create_task(brewCofee())\n",
        "  Bagel_task = asyncio.create_task(toastBagel())\n",
        "\n",
        "  result_cofee, result_Bagel = await cofee_task, await Bagel_task\n",
        "\n",
        "  end_time = time.time()\n",
        "  elapsed_time = end_time - start_time\n",
        "\n",
        "  print(f'result of brewCofee(): {result_cofee}')\n",
        "  print(f'result of toastBagel(): {result_Bagel}')\n",
        "  print(f'total execution time: {elapsed_time: .2f} seconds')\n",
        "\n",
        "if __name__ == \"__main__\":\n",
        "  # asyncio.run(main())\n",
        "  await main()"
      ],
      "metadata": {
        "colab": {
          "base_uri": "https://localhost:8080/"
        },
        "id": "0gT8qgPj0Ng9",
        "outputId": "1ba05b4b-b0e1-4447-fdd4-2a07fce9f440"
      },
      "execution_count": null,
      "outputs": [
        {
          "output_type": "stream",
          "name": "stdout",
          "text": [
            "Start brewCofee()\n",
            "Start toastBagel()\n",
            "End toastBagel()\n",
            "End brewCofee()\n",
            "result of brewCofee(): Coffe ready\n",
            "result of toastBagel(): Bagel toasted\n",
            "total execution time:  3.00 seconds\n"
          ]
        }
      ]
    },
    {
      "cell_type": "markdown",
      "source": [
        "## Realworld Application of asyncio\n",
        "\n",
        "**Problem Statement:** Download multiple images concurrently using asyncio"
      ],
      "metadata": {
        "id": "3CLaAFYjMUkJ"
      }
    },
    {
      "cell_type": "code",
      "source": [
        "import time\n",
        "import asyncio\n",
        "import requests"
      ],
      "metadata": {
        "id": "4Cbkq1eRWcOD"
      },
      "execution_count": null,
      "outputs": []
    },
    {
      "cell_type": "code",
      "source": [
        "async def function1():\n",
        "  print(\"func 1\")\n",
        "  URL = \"https://wallpaperaccess.in/public/uploads/preview/1920x1200-desktop-background-ultra-hd-wallpaper-wiki-desktop-wallpaper-4k-.jpg\"\n",
        "  response = requests.get(URL)\n",
        "  open(\"wallpaper1.jpg\", \"wb\").write(response.content)\n",
        "\n",
        "  return \"Harry\"\n",
        "\n",
        "async def function2():\n",
        "  print(\"func 2\")\n",
        "  URL = \"https://p4.wallpaperbetter.com/wallpaper/490/433/199/nature-2560x1440-tree-snow-wallpaper-preview.jpg\"\n",
        "  response = requests.get(URL)\n",
        "  open(\"wallpaper2.jpg\", \"wb\").write(response.content)\n",
        "\n",
        "async def function3():\n",
        "  print(\"func 3\")\n",
        "  URL = \"https://wallpapercave.com/dwp2x/wp5718716.jpg\"\n",
        "  response = requests.get(URL)\n",
        "  open(\"wallpaper3.jpg\", \"wb\").write(response.content)\n",
        "\n",
        "async def main():\n",
        "  await function1()\n",
        "  await function2()\n",
        "  await function3()\n",
        "  return 3\n",
        "\n",
        "if __name__ == \"__main__\":\n",
        "  # This function cannot be called when another asyncio event loop is running in the same thread.\n",
        "  # In our case, colab is already running an event loop, so the below statement will throw below error:\n",
        "  # RuntimeError: asyncio.run() cannot be called from a running event loop\n",
        "  # asyncio.run(main())\n",
        "  await main()"
      ],
      "metadata": {
        "colab": {
          "base_uri": "https://localhost:8080/"
        },
        "id": "B3Wzaa5mYBLG",
        "outputId": "acdaf2c5-40ef-4c73-a7d6-1603d05767b5"
      },
      "execution_count": null,
      "outputs": [
        {
          "output_type": "stream",
          "name": "stdout",
          "text": [
            "func 1\n",
            "func 2\n",
            "func 3\n"
          ]
        }
      ]
    },
    {
      "cell_type": "code",
      "source": [
        "async def function1():\n",
        "  print(\"func 1\")\n",
        "  URL = \"https://wallpaperaccess.in/public/uploads/preview/1920x1200-desktop-background-ultra-hd-wallpaper-wiki-desktop-wallpaper-4k-.jpg\"\n",
        "  response = requests.get(URL)\n",
        "  open(\"wallpaper1.jpg\", \"wb\").write(response.content)\n",
        "\n",
        "  return \"Harry\"\n",
        "\n",
        "async def function2():\n",
        "  print(\"func 2\")\n",
        "  URL = \"https://p4.wallpaperbetter.com/wallpaper/490/433/199/nature-2560x1440-tree-snow-wallpaper-preview.jpg\"\n",
        "  response = requests.get(URL)\n",
        "  open(\"wallpaper2.jpg\", \"wb\").write(response.content)\n",
        "\n",
        "async def function3():\n",
        "  print(\"func 3\")\n",
        "  URL = \"https://wallpapercave.com/dwp2x/wp5718716.jpg\"\n",
        "  response = requests.get(URL)\n",
        "  open(\"wallpaper3.jpg\", \"wb\").write(response.content)\n",
        "\n",
        "async def main():\n",
        "  # await function1()\n",
        "  # await function2()\n",
        "  # await function3()\n",
        "  # return 3\n",
        "  # L = await asyncio.gather(\n",
        "  #       function1(),\n",
        "  #       function2(),\n",
        "  #       function3(),\n",
        "  #   )\n",
        "  # print(L)\n",
        "  task = asyncio.create_task(function1())\n",
        "  # await function1()\n",
        "  await function2()\n",
        "  await function3()\n",
        "\n",
        "if __name__ == \"__main__\":\n",
        "  # This function cannot be called when another asyncio event loop is running in the same thread.\n",
        "  # In our case, colab is already running an event loop, so the below statement will throw below error:\n",
        "  # RuntimeError: asyncio.run() cannot be called from a running event loop\n",
        "  # asyncio.run(main())\n",
        "  await main()"
      ],
      "metadata": {
        "colab": {
          "base_uri": "https://localhost:8080/"
        },
        "id": "u8wfp1hHSduW",
        "outputId": "ac8f5ffd-c2d8-46e0-ebc9-8fca2b2244ce"
      },
      "execution_count": null,
      "outputs": [
        {
          "output_type": "stream",
          "name": "stdout",
          "text": [
            "func 2\n",
            "func 3\n",
            "func 1\n"
          ]
        }
      ]
    },
    {
      "cell_type": "code",
      "source": [
        "async def function1():\n",
        "  print(\"func 1\")\n",
        "  URL = \"https://wallpaperaccess.in/public/uploads/preview/1920x1200-desktop-background-ultra-hd-wallpaper-wiki-desktop-wallpaper-4k-.jpg\"\n",
        "  response = requests.get(URL)\n",
        "  open(\"wallpaper1.jpg\", \"wb\").write(response.content)\n",
        "\n",
        "  return \"Harry\"\n",
        "\n",
        "async def function2():\n",
        "  print(\"func 2\")\n",
        "  URL = \"https://p4.wallpaperbetter.com/wallpaper/490/433/199/nature-2560x1440-tree-snow-wallpaper-preview.jpg\"\n",
        "  response = requests.get(URL)\n",
        "  open(\"wallpaper2.jpg\", \"wb\").write(response.content)\n",
        "\n",
        "async def function3():\n",
        "  print(\"func 3\")\n",
        "  URL = \"https://wallpapercave.com/dwp2x/wp5718716.jpg\"\n",
        "  response = requests.get(URL)\n",
        "  open(\"wallpaper3.jpg\", \"wb\").write(response.content)\n",
        "\n",
        "async def main():\n",
        "  # await function1()\n",
        "  # await function2()\n",
        "  # await function3()\n",
        "  # return 3\n",
        "  L = await asyncio.gather(\n",
        "        function1(),\n",
        "        function2(),\n",
        "        function3(),\n",
        "    )\n",
        "  print(L)\n",
        "  # task = asyncio.create_task(function1())\n",
        "  # # await function1()\n",
        "  # await function2()\n",
        "  # await function3()\n",
        "\n",
        "if __name__ == \"__main__\":\n",
        "  # This function cannot be called when another asyncio event loop is running in the same thread.\n",
        "  # In our case, colab is already running an event loop, so the below statement will throw below error:\n",
        "  # RuntimeError: asyncio.run() cannot be called from a running event loop\n",
        "  # asyncio.run(main())\n",
        "  await main()"
      ],
      "metadata": {
        "colab": {
          "base_uri": "https://localhost:8080/"
        },
        "id": "OHqiCqIPVLZX",
        "outputId": "fe5d07c2-ca40-49f4-807b-d683d26b442f"
      },
      "execution_count": null,
      "outputs": [
        {
          "output_type": "stream",
          "name": "stdout",
          "text": [
            "func 1\n",
            "func 2\n",
            "func 3\n",
            "['Harry', None, None]\n"
          ]
        }
      ]
    }
  ]
}