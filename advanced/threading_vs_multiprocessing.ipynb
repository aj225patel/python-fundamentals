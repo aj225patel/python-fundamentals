{
  "nbformat": 4,
  "nbformat_minor": 0,
  "metadata": {
    "colab": {
      "provenance": [],
      "toc_visible": true,
      "authorship_tag": "ABX9TyPCxY7587gpaukOmYsMwrf9",
      "include_colab_link": true
    },
    "kernelspec": {
      "name": "python3",
      "display_name": "Python 3"
    },
    "language_info": {
      "name": "python"
    }
  },
  "cells": [
    {
      "cell_type": "markdown",
      "metadata": {
        "id": "view-in-github",
        "colab_type": "text"
      },
      "source": [
        "<a href=\"https://colab.research.google.com/github/aj225patel/python-fundamentals/blob/main/advanced/threading_vs_multiprocessing.ipynb\" target=\"_parent\"><img src=\"https://colab.research.google.com/assets/colab-badge.svg\" alt=\"Open In Colab\"/></a>"
      ]
    },
    {
      "cell_type": "markdown",
      "source": [
        "# Threading vs Multiprocessing in Python\n",
        "\n",
        "> We have two common approaches to run code in parallel (achieve multitasking and speed up your program) : via threads or via multiple processes.\n",
        "\n"
      ],
      "metadata": {
        "id": "-phlTIQXgXzv"
      }
    },
    {
      "cell_type": "markdown",
      "source": [
        "## Process\n",
        "\n",
        "> A Process is an instance of a program, e.g. a Python interpreter. They are independent from each other and do not share the same memory.\n",
        "\n"
      ],
      "metadata": {
        "id": "PmSSggYZggJ6"
      }
    },
    {
      "cell_type": "markdown",
      "source": [
        "**Key facts:** A new process is started independently from the first\n",
        " process - Takes advantage of multiple CPUs and cores - Separate memory space - Memory is not shared between processes - One GIL (Global interpreter lock) for each process, i.e. avoids GIL limitation - Great for CPU-bound processing - Child processes are interruptable/killable"
      ],
      "metadata": {
        "id": "biw6tPDng0Qa"
      }
    },
    {
      "cell_type": "markdown",
      "source": [
        "* Starting a process is slower that starting a thread\n",
        "* Larger memory footprint\n",
        "* IPC (inter-process communication) is more complicated"
      ],
      "metadata": {
        "id": "CF8zmL6UhJUv"
      }
    },
    {
      "cell_type": "markdown",
      "source": [
        "## Threads\n",
        "\n",
        "> A thread is an entity within a process that can be scheduled for execution (Also known as \"leightweight process\"). A Process can spawn multiple threads. The main difference is that all threads within a process share the same memory.\n",
        "\n"
      ],
      "metadata": {
        "id": "svbwBSBDhSXm"
      }
    },
    {
      "cell_type": "markdown",
      "source": [
        "**Key facts:** Multiple threads can be spawned within one process - Memory is shared between all threads - Starting a thread is faster than starting a process - Great for I/O-bound tasks - Leightweight - low memory footprint"
      ],
      "metadata": {
        "id": "e8Ts7GlShdcS"
      }
    },
    {
      "cell_type": "markdown",
      "source": [
        "* One GIL for all threads, i.e. threads are limited by GIL\n",
        "* Multithreading has no effect for CPU-bound tasks due to the GIL\n",
        "* Not interruptible/killable -> be careful with memory leaks\n",
        "* increased potential for race conditions"
      ],
      "metadata": {
        "id": "7cJg4Yk5huqs"
      }
    },
    {
      "cell_type": "markdown",
      "source": [
        "## Threading in Python\n",
        "\n",
        "> Use the **threading** module.\n",
        "\n"
      ],
      "metadata": {
        "id": "1g9DDWbJiBu-"
      }
    },
    {
      "cell_type": "markdown",
      "source": [
        "**Note:** The following example usually won't benefit from multiple threads since it is CPU-bound. It should just show the example of how to use threads."
      ],
      "metadata": {
        "id": "HE5NbuVCiIcq"
      }
    },
    {
      "cell_type": "code",
      "execution_count": 8,
      "metadata": {
        "id": "MkdSx-KST3-U"
      },
      "outputs": [],
      "source": [
        "from threading import Thread\n",
        "\n",
        "def square_numbers():\n",
        "    for i in range(1000):\n",
        "        result = i * i\n",
        "\n",
        "\n",
        "if __name__ == \"__main__\":\n",
        "    threads = []\n",
        "    num_threads = 10\n",
        "\n",
        "    # create threads and asign a function for each thread\n",
        "    for i in range(num_threads):\n",
        "        thread = Thread(target=square_numbers)\n",
        "        threads.append(thread)\n",
        "\n",
        "    # start all threads\n",
        "    for thread in threads:\n",
        "        thread.start()\n",
        "\n",
        "    # wait for all threads to finish\n",
        "    # block the main thread until these threads are finished\n",
        "    for thread in threads:\n",
        "        thread.join()"
      ]
    },
    {
      "cell_type": "markdown",
      "source": [
        "### When is Threading useful\n",
        "\n",
        "> Despite the GIL it is useful for I/O-bound tasks when your program has to talk to slow devices, like a hard drive or a network connection. With threading the program can use the time waiting for these devices and intelligently do other tasks in the meantime.\n",
        "\n",
        "**Example:** Download website information from multiple sites. Use a thread for each site.\n",
        "\n"
      ],
      "metadata": {
        "id": "N7Ze1-i-ifJ9"
      }
    },
    {
      "cell_type": "markdown",
      "source": [
        "## Multiprocessing\n",
        "\n",
        "> Use the **multiprocessing** module. The syntax is very similar to above.\n",
        "\n",
        "\n"
      ],
      "metadata": {
        "id": "Un5pK9wxi4WO"
      }
    },
    {
      "cell_type": "code",
      "source": [
        "from multiprocessing import Process\n",
        "import os\n",
        "\n",
        "\n",
        "def square_numbers():\n",
        "    for i in range(1000):\n",
        "        result = i * i\n",
        "\n",
        "\n",
        "if __name__ == \"__main__\":\n",
        "    processes = []\n",
        "    num_processes = os.cpu_count()\n",
        "\n",
        "    # create processes and asign a function for each process\n",
        "    for i in range(num_processes):\n",
        "        process = Process(target=square_numbers)\n",
        "        processes.append(process)\n",
        "\n",
        "    # start all processes\n",
        "    for process in processes:\n",
        "        process.start()\n",
        "\n",
        "    # wait for all processes to finish\n",
        "    # block the main thread until these processes are finished\n",
        "    for process in processes:\n",
        "        process.join()"
      ],
      "metadata": {
        "colab": {
          "base_uri": "https://localhost:8080/"
        },
        "id": "JKph_Ez_UHYb",
        "outputId": "d1f633d3-c9d9-4abd-e178-698fd6064a1c"
      },
      "execution_count": 5,
      "outputs": [
        {
          "output_type": "stream",
          "name": "stdout",
          "text": [
            "end main\n"
          ]
        }
      ]
    },
    {
      "cell_type": "markdown",
      "source": [
        "### When is Multiprocessing useful\n",
        "\n",
        "> It is useful for CPU-bound tasks that have to do a lot of CPU operations for a large amount of data and require a lot of computation time. With multiprocessing you can split the data into equal parts an do parallel computing on different CPUs.\n",
        "\n",
        "**Example:** Calculate the square numbers for all numbers from 1 to 1000000. Divide the numbers into equal sized parts and use a process for each subset.\n",
        "\n"
      ],
      "metadata": {
        "id": "ejJXrU3jjFrx"
      }
    },
    {
      "cell_type": "markdown",
      "source": [
        "## GIL - Global interpreter lock\n",
        "\n",
        "> This is a mutex (or a lock) that allows only one thread to hold control of the Python interpreter. This means that the GIL allows only one thread to execute at a time even in a multi-threaded architecture.\n",
        "\n"
      ],
      "metadata": {
        "id": "UjuaIdDwjbaC"
      }
    },
    {
      "cell_type": "markdown",
      "source": [
        "### Why is it needed?\n",
        "It is needed because CPython's (reference implementation of Python) memory management is not thread-safe. Python uses reference counting for memory management. It means that objects created in Python have a reference count variable that keeps track of the number of references that point to the object. When this count reaches zero, the memory occupied by the object is released. The problem was that this reference count variable needed protection from race conditions where two threads increase or decrease its value simultaneously. If this happens, it can cause either leaked memory that is never released or incorrectly release the memory while a reference to that object still exists."
      ],
      "metadata": {
        "id": "CDV1__oljoHc"
      }
    },
    {
      "cell_type": "markdown",
      "source": [
        "### How to avoid the GIL?\n",
        "The GIL is very controversial in the Python community. The main way to avoid the GIL is by using multiprocessing instead of threading. Another (however uncomfortable) solution would be to avoid the CPython implementation and use a free-threaded Python implementation like Jython or IronPython. A third option is to move parts of the application out into binary extensions modules, i.e. use Python as a wrapper for third party libraries (e.g. in C/C++). This is the path taken by numpy and scipy."
      ],
      "metadata": {
        "id": "BA_5VxFNkBWi"
      }
    }
  ]
}