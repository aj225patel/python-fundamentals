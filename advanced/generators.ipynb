{
  "nbformat": 4,
  "nbformat_minor": 0,
  "metadata": {
    "colab": {
      "provenance": [],
      "toc_visible": true,
      "authorship_tag": "ABX9TyO60h5mmUX+xxUaXYGZLP6i",
      "include_colab_link": true
    },
    "kernelspec": {
      "name": "python3",
      "display_name": "Python 3"
    },
    "language_info": {
      "name": "python"
    }
  },
  "cells": [
    {
      "cell_type": "markdown",
      "metadata": {
        "id": "view-in-github",
        "colab_type": "text"
      },
      "source": [
        "<a href=\"https://colab.research.google.com/github/aj225patel/python-fundamentals/blob/main/advanced/generators.ipynb\" target=\"_parent\"><img src=\"https://colab.research.google.com/assets/colab-badge.svg\" alt=\"Open In Colab\"/></a>"
      ]
    },
    {
      "cell_type": "markdown",
      "source": [
        "# **Generators**\n",
        "\n",
        "> Generators are functions that can be paused and resumed on the fly, returning an object that can be iterated over.\n",
        "\n"
      ],
      "metadata": {
        "id": "fFTUPWKzYrdi"
      }
    },
    {
      "cell_type": "markdown",
      "source": [
        "\n",
        "\n",
        "*   Unlike lists, they are lazy and thus produce items one at a time and only when asked.\n",
        "*   So they are much more memory efficient when dealing with large datasets.\n",
        "* A generator is defined like a normal function but with the yield statement instead of return.\n",
        "\n"
      ],
      "metadata": {
        "id": "e5Ppn44mpTWz"
      }
    },
    {
      "cell_type": "markdown",
      "source": [
        "https://www.python-engineer.com/courses/advancedpython/14-generators/"
      ],
      "metadata": {
        "id": "bMLghbgwszWv"
      }
    },
    {
      "cell_type": "code",
      "execution_count": 13,
      "metadata": {
        "colab": {
          "base_uri": "https://localhost:8080/"
        },
        "id": "-dVkKI4AYouD",
        "outputId": "25577d76-ce61-4bec-c718-87d3defc3df9"
      },
      "outputs": [
        {
          "output_type": "stream",
          "name": "stdout",
          "text": [
            "3\n",
            "2\n",
            "1\n"
          ]
        }
      ],
      "source": [
        "def mygenerator():\n",
        "  yield 3\n",
        "  yield 2\n",
        "  yield 1\n",
        "\n",
        "g = mygenerator()\n",
        "\n",
        "for i in g:\n",
        "  print(i)"
      ]
    },
    {
      "cell_type": "code",
      "source": [
        "g1 = mygenerator()\n",
        "\n",
        "list(g1)"
      ],
      "metadata": {
        "colab": {
          "base_uri": "https://localhost:8080/"
        },
        "id": "ci57snmUZSUW",
        "outputId": "9edb75c4-a560-49fd-f51a-3c0f16f11496"
      },
      "execution_count": 14,
      "outputs": [
        {
          "output_type": "execute_result",
          "data": {
            "text/plain": [
              "[3, 2, 1]"
            ]
          },
          "metadata": {},
          "execution_count": 14
        }
      ]
    },
    {
      "cell_type": "code",
      "source": [
        "g2 = mygenerator()\n",
        "\n",
        "while 1:\n",
        "  print(next(g2))\n"
      ],
      "metadata": {
        "colab": {
          "base_uri": "https://localhost:8080/",
          "height": 263
        },
        "id": "feBeyul-Zd8p",
        "outputId": "c15b521e-0014-4e9a-f262-b555a2b176f6"
      },
      "execution_count": 15,
      "outputs": [
        {
          "output_type": "stream",
          "name": "stdout",
          "text": [
            "3\n",
            "2\n",
            "1\n"
          ]
        },
        {
          "output_type": "error",
          "ename": "StopIteration",
          "evalue": "",
          "traceback": [
            "\u001b[0;31m---------------------------------------------------------------------------\u001b[0m",
            "\u001b[0;31mStopIteration\u001b[0m                             Traceback (most recent call last)",
            "\u001b[0;32m<ipython-input-15-2a08bb0c1622>\u001b[0m in \u001b[0;36m<cell line: 3>\u001b[0;34m()\u001b[0m\n\u001b[1;32m      2\u001b[0m \u001b[0;34m\u001b[0m\u001b[0m\n\u001b[1;32m      3\u001b[0m \u001b[0;32mwhile\u001b[0m \u001b[0;36m1\u001b[0m\u001b[0;34m:\u001b[0m\u001b[0;34m\u001b[0m\u001b[0;34m\u001b[0m\u001b[0m\n\u001b[0;32m----> 4\u001b[0;31m   \u001b[0mprint\u001b[0m\u001b[0;34m(\u001b[0m\u001b[0mnext\u001b[0m\u001b[0;34m(\u001b[0m\u001b[0mg2\u001b[0m\u001b[0;34m)\u001b[0m\u001b[0;34m)\u001b[0m\u001b[0;34m\u001b[0m\u001b[0;34m\u001b[0m\u001b[0m\n\u001b[0m",
            "\u001b[0;31mStopIteration\u001b[0m: "
          ]
        }
      ]
    },
    {
      "cell_type": "code",
      "source": [
        "g3 = mygenerator()\n",
        "\n",
        "while 1:\n",
        "  try:\n",
        "    print(next(g3))\n",
        "  except StopIteration:\n",
        "    print(\"generator is iterated completely\")\n",
        "    break"
      ],
      "metadata": {
        "colab": {
          "base_uri": "https://localhost:8080/"
        },
        "id": "ng1xucUkaNn0",
        "outputId": "6525372c-aa7e-499f-ffa5-8b5b27b328b3"
      },
      "execution_count": 16,
      "outputs": [
        {
          "output_type": "stream",
          "name": "stdout",
          "text": [
            "3\n",
            "2\n",
            "1\n",
            "generator is iterated completely\n"
          ]
        }
      ]
    },
    {
      "cell_type": "code",
      "source": [
        "g4 = mygenerator()\n",
        "\n",
        "s = sum(g4)  # 3 + 2 + 1 = 6\n",
        "print(f\"sum: {s}\")\n",
        "\n",
        "\n",
        "g5 = mygenerator()\n",
        "sorted_list = sorted(g5)\n",
        "\n",
        "print(f\"sorted list: {sorted_list}\")"
      ],
      "metadata": {
        "colab": {
          "base_uri": "https://localhost:8080/"
        },
        "id": "2QUje7Yqa_2K",
        "outputId": "526f731e-0d3c-4ed9-eed1-c5a788c7c240"
      },
      "execution_count": 17,
      "outputs": [
        {
          "output_type": "stream",
          "name": "stdout",
          "text": [
            "sum: 6\n",
            "sorted list: [1, 2, 3]\n"
          ]
        }
      ]
    },
    {
      "cell_type": "markdown",
      "source": [
        "## Execution of a generator function"
      ],
      "metadata": {
        "id": "Gn523DQ7ppAz"
      }
    },
    {
      "cell_type": "markdown",
      "source": [
        "\n",
        "\n",
        "*   Calling the function does not execute it. Instead, the function returns a generator object which is used to control execution.\n",
        "* Generator objects execute when next() is called. When calling next() the first time, execution begins at the start of the function and continues until the first yield statement where the value to the right of the statement is returned.\n",
        "* Subsequent calls to next() continue from the yield statement (and loop around) until another yield is reached. If yield is not called because of a condition or the end is reached, a **StopIteration exception** is raised:\n",
        "\n"
      ],
      "metadata": {
        "id": "MRAj19kSptK5"
      }
    },
    {
      "cell_type": "code",
      "source": [
        "def countdown(num: int):\n",
        "  print('starting')\n",
        "  while num > 0:\n",
        "    yield num\n",
        "    num -= 1\n",
        "\n",
        "cd = countdown(4)\n",
        "\n",
        "value = next(cd)\n",
        "print(value)\n",
        "value = next(cd)\n",
        "print(value)\n",
        "value = next(cd)\n",
        "print(value)\n",
        "value = next(cd)\n",
        "print(value)\n"
      ],
      "metadata": {
        "colab": {
          "base_uri": "https://localhost:8080/"
        },
        "id": "Dpvu0Q9ad_VE",
        "outputId": "d873eef4-caaa-46f1-b124-1d30ade92ffa"
      },
      "execution_count": 22,
      "outputs": [
        {
          "output_type": "stream",
          "name": "stdout",
          "text": [
            "starting\n",
            "4\n",
            "3\n",
            "2\n",
            "1\n"
          ]
        }
      ]
    },
    {
      "cell_type": "markdown",
      "source": [
        "## Big advantage: Generators save memory!"
      ],
      "metadata": {
        "id": "5kBIcPHIhEaQ"
      }
    },
    {
      "cell_type": "code",
      "source": [
        "def firstn(n: int) -> list:\n",
        "  nums = []\n",
        "  num = 0\n",
        "\n",
        "  while num < n:\n",
        "    nums.append(num)\n",
        "    num += 1\n",
        "  return nums\n",
        "\n",
        "print(firstn(10))\n",
        "print(f\"sum = {sum(firstn(10))}\")"
      ],
      "metadata": {
        "colab": {
          "base_uri": "https://localhost:8080/"
        },
        "id": "Km41TxR9fgkN",
        "outputId": "70eda1d3-ebd1-4c9f-e13d-15c5091e07ec"
      },
      "execution_count": 25,
      "outputs": [
        {
          "output_type": "stream",
          "name": "stdout",
          "text": [
            "[0, 1, 2, 3, 4, 5, 6, 7, 8, 9]\n",
            "sum = 45\n"
          ]
        }
      ]
    },
    {
      "cell_type": "markdown",
      "source": [
        "### Generators are more memory efficient\n",
        "\n",
        "> Since the values are generated lazily, i.e. only when needed, it saves a lot of memory, especially when working with large data. Furthermore, we do not need to wait until all the elements have been generated before we start to use them.\n",
        "\n"
      ],
      "metadata": {
        "id": "J67gmAzViTMb"
      }
    },
    {
      "cell_type": "code",
      "source": [
        "from typing import Generator\n",
        "def firstn_generators(n: int):\n",
        "  num = 0\n",
        "\n",
        "  while num < n:\n",
        "    yield num\n",
        "    num += 1\n",
        "\n",
        "print(f\"sum = {sum(firstn_generators(10))}\")"
      ],
      "metadata": {
        "colab": {
          "base_uri": "https://localhost:8080/"
        },
        "id": "WbPuLM8eguhH",
        "outputId": "b651e805-7484-4517-aca1-6dbdd1ed1c5f"
      },
      "execution_count": 26,
      "outputs": [
        {
          "output_type": "stream",
          "name": "stdout",
          "text": [
            "sum = 45\n"
          ]
        }
      ]
    },
    {
      "cell_type": "code",
      "source": [
        "import sys\n",
        "\n",
        "n = 100000\n",
        "print(f\"Size of a list object = {sys.getsizeof(firstn(n))} bytes\")\n",
        "print(f\"Size of a generator object = {sys.getsizeof(firstn_generators(n))} bytes\")"
      ],
      "metadata": {
        "colab": {
          "base_uri": "https://localhost:8080/"
        },
        "id": "sIunL8JwjIvm",
        "outputId": "3ee30f53-f165-4fc5-8f26-27c854583e15"
      },
      "execution_count": 29,
      "outputs": [
        {
          "output_type": "stream",
          "name": "stdout",
          "text": [
            "Size of a list object = 800984 bytes\n",
            "Size of a generator object = 104 bytes\n"
          ]
        }
      ]
    },
    {
      "cell_type": "markdown",
      "source": [
        "### Another example: Fibonacci numbers"
      ],
      "metadata": {
        "id": "5ua4bU-squ_0"
      }
    },
    {
      "cell_type": "code",
      "source": [
        "def fibonacci(limit: int):\n",
        "  a, b = 0, 1\n",
        "  while a < limit:\n",
        "    yield a\n",
        "    a, b = b, a + b\n",
        "\n",
        "fib = fibonacci(30)\n",
        "\n",
        "for i in fib:\n",
        "  print(i)"
      ],
      "metadata": {
        "colab": {
          "base_uri": "https://localhost:8080/"
        },
        "id": "R9uaRzrBkAXW",
        "outputId": "f9bf66e9-0d3d-499a-b95b-b3ab459e475b"
      },
      "execution_count": 31,
      "outputs": [
        {
          "output_type": "stream",
          "name": "stdout",
          "text": [
            "0\n",
            "1\n",
            "1\n",
            "2\n",
            "3\n",
            "5\n",
            "8\n",
            "13\n",
            "21\n"
          ]
        }
      ]
    },
    {
      "cell_type": "markdown",
      "source": [
        "## Generator Expression"
      ],
      "metadata": {
        "id": "vT491zbFnNRN"
      }
    },
    {
      "cell_type": "markdown",
      "source": [
        "* Just like list comprehensions, generators can be written in the same syntax except with parenthesis instead of square brackets. Be careful not to mix them up, since generator expressions are often slower than list comprehensions because of the overhead of function calls\n",
        "* (https://stackoverflow.com/questions/11964130/list-comprehension-vs-generator-expressions-weird-timeit-results/11964478#11964478)"
      ],
      "metadata": {
        "id": "5tKqouK4q8gf"
      }
    },
    {
      "cell_type": "code",
      "source": [
        "mygen = (i for i in range(10) if i % 2 == 0)\n",
        "\n",
        "for i in mygen:\n",
        "  print(i)"
      ],
      "metadata": {
        "colab": {
          "base_uri": "https://localhost:8080/"
        },
        "id": "pu06fQj4l9Iy",
        "outputId": "fb3fddf7-81f0-42cb-e445-b364a93294b1"
      },
      "execution_count": 32,
      "outputs": [
        {
          "output_type": "stream",
          "name": "stdout",
          "text": [
            "0\n",
            "2\n",
            "4\n",
            "6\n",
            "8\n"
          ]
        }
      ]
    },
    {
      "cell_type": "code",
      "source": [
        "n = 100000\n",
        "lst = [i for i in range(n) if i % 2 == 0]\n",
        "gen = (i for i in range(n) if i % 2 == 0)\n",
        "\n",
        "print(f\"Size of a list object = {sys.getsizeof(lst)} bytes\")\n",
        "print(f\"Size of a generator object = {sys.getsizeof(gen)} bytes\")\n"
      ],
      "metadata": {
        "colab": {
          "base_uri": "https://localhost:8080/"
        },
        "id": "4IMUhMLMmeHA",
        "outputId": "4473f591-4ac1-424c-f32c-2f6706361d34"
      },
      "execution_count": 34,
      "outputs": [
        {
          "output_type": "stream",
          "name": "stdout",
          "text": [
            "Size of a list object = 444376 bytes\n",
            "Size of a generator object = 104 bytes\n"
          ]
        }
      ]
    },
    {
      "cell_type": "markdown",
      "source": [
        "## Concept behind a generator"
      ],
      "metadata": {
        "id": "jj-yL3WOrWGG"
      }
    },
    {
      "cell_type": "markdown",
      "source": [
        "* This class implements our generator as an iterable object. It has to implement ______iter__ and ______next__ to make it iterable, keep track of the current state (the current number in this case), and take care of a StopIteration"
      ],
      "metadata": {
        "id": "W14hacTBrfdC"
      }
    },
    {
      "cell_type": "code",
      "source": [
        "class firstn:\n",
        "    def __init__(self, n):\n",
        "        self.n = n\n",
        "        self.num = 0\n",
        "\n",
        "    def __iter__(self):\n",
        "        return self\n",
        "\n",
        "    def __next__(self):\n",
        "        if self.num < self.n:\n",
        "            cur = self.num\n",
        "            self.num += 1\n",
        "            return cur\n",
        "        else:\n",
        "            raise StopIteration()\n",
        "\n",
        "firstn_object = firstn(1000000)\n",
        "print(sum(firstn_object))"
      ],
      "metadata": {
        "colab": {
          "base_uri": "https://localhost:8080/"
        },
        "id": "jgaKwflMrVs-",
        "outputId": "939445d5-15cf-4263-a2e3-653365225c88"
      },
      "execution_count": 35,
      "outputs": [
        {
          "output_type": "stream",
          "name": "stdout",
          "text": [
            "499999500000\n"
          ]
        }
      ]
    }
  ]
}