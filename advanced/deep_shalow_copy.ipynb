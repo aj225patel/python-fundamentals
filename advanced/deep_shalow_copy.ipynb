{
  "nbformat": 4,
  "nbformat_minor": 0,
  "metadata": {
    "colab": {
      "provenance": [],
      "toc_visible": true,
      "authorship_tag": "ABX9TyP6pIaHw6oCdF34Nyok3Gv+",
      "include_colab_link": true
    },
    "kernelspec": {
      "name": "python3",
      "display_name": "Python 3"
    },
    "language_info": {
      "name": "python"
    }
  },
  "cells": [
    {
      "cell_type": "markdown",
      "metadata": {
        "id": "view-in-github",
        "colab_type": "text"
      },
      "source": [
        "<a href=\"https://colab.research.google.com/github/aj225patel/python-fundamentals/blob/main/advanced/deep_shalow_copy.ipynb\" target=\"_parent\"><img src=\"https://colab.research.google.com/assets/colab-badge.svg\" alt=\"Open In Colab\"/></a>"
      ]
    },
    {
      "cell_type": "markdown",
      "source": [
        "# **Shallow vs Deep Copying**"
      ],
      "metadata": {
        "id": "A5bMvSjlMoW0"
      }
    },
    {
      "cell_type": "markdown",
      "source": [
        "## Immutable Datatypes"
      ],
      "metadata": {
        "id": "RmPgQCrfNhKM"
      }
    },
    {
      "cell_type": "code",
      "execution_count": 1,
      "metadata": {
        "colab": {
          "base_uri": "https://localhost:8080/"
        },
        "id": "eYuoTD04Mc29",
        "outputId": "3bc28380-56b4-4a55-8f31-e4e6beaf4304"
      },
      "outputs": [
        {
          "output_type": "stream",
          "name": "stdout",
          "text": [
            "5\n",
            "8\n"
          ]
        }
      ],
      "source": [
        "a = 5\n",
        "b = a  # both variable a and b referencing the same value 5\n",
        "b = 8  # Now b points to 8\n",
        "print(a)\n",
        "print(b)"
      ]
    },
    {
      "cell_type": "code",
      "source": [
        "a = 'andrew'\n",
        "b = a\n",
        "b = 'andy'\n",
        "# b[0] = b    --> 'str' object does not support item assignment, because it is immutable\n",
        "print(a)\n",
        "print(b)"
      ],
      "metadata": {
        "colab": {
          "base_uri": "https://localhost:8080/"
        },
        "id": "sA3bBdSNNrFL",
        "outputId": "0c235bed-89fe-40c6-ac18-b4ca9f9f05c5"
      },
      "execution_count": 18,
      "outputs": [
        {
          "output_type": "stream",
          "name": "stdout",
          "text": [
            "andrew\n",
            "andy\n"
          ]
        }
      ]
    },
    {
      "cell_type": "markdown",
      "source": [
        "## Mutable datatypes"
      ],
      "metadata": {
        "id": "a3RrqPblNlz1"
      }
    },
    {
      "cell_type": "code",
      "source": [
        "og = [1, 2, 3, 4]\n",
        "copy = og     # It is not actual copy but now, og and copy both vars referencing to same address\n",
        "copy[0] = -10     # so if we change the 0th element of copy, it will also change the og list cuz it's basically same memory address\n",
        "print(og)\n",
        "print(copy)"
      ],
      "metadata": {
        "colab": {
          "base_uri": "https://localhost:8080/"
        },
        "id": "3ymErf-KMnJ3",
        "outputId": "ee3ebe91-2798-44c1-960d-7084ff3c99ec"
      },
      "execution_count": 6,
      "outputs": [
        {
          "output_type": "stream",
          "name": "stdout",
          "text": [
            "[-10, 2, 3, 4]\n",
            "[-10, 2, 3, 4]\n"
          ]
        }
      ]
    },
    {
      "cell_type": "code",
      "source": [
        "class Person:\n",
        "  def __init__(self, name, age):\n",
        "    self.name = name\n",
        "    self.age = age\n",
        "\n",
        "p1 = Person(\"Alex\", 18)\n",
        "p2 = p1\n",
        "\n",
        "p2.age = 24     # it will also change the p1 object's age attribute\n",
        "print(f\"p1's age: {p1.age}\")\n",
        "print(f\"p2's age: {p2.age}\")"
      ],
      "metadata": {
        "colab": {
          "base_uri": "https://localhost:8080/"
        },
        "id": "qwklWncjSHO5",
        "outputId": "ea2e0847-9d2a-43b2-de75-3327a79914cd"
      },
      "execution_count": 14,
      "outputs": [
        {
          "output_type": "stream",
          "name": "stdout",
          "text": [
            "p1's age: 24\n",
            "p2's age: 24\n"
          ]
        }
      ]
    },
    {
      "cell_type": "markdown",
      "source": [
        "## Shalow Copy\n",
        "\n",
        "> One level deep: only references of nested child objects\n",
        "\n"
      ],
      "metadata": {
        "id": "u7s8nYEDPB_M"
      }
    },
    {
      "cell_type": "code",
      "source": [
        "import copy as cp"
      ],
      "metadata": {
        "id": "B9uVr80xNfCJ"
      },
      "execution_count": 7,
      "outputs": []
    },
    {
      "cell_type": "code",
      "source": [
        "og = [1, 2, 3]\n",
        "copy = cp.copy(og)\n",
        "copy[0] = -10\n",
        "print(f\"original: {og}\")\n",
        "print(f\"copy: {copy}\")"
      ],
      "metadata": {
        "colab": {
          "base_uri": "https://localhost:8080/"
        },
        "id": "keLwyFWtPGrn",
        "outputId": "96494cac-5a9f-458d-9208-10fa29bc4e02"
      },
      "execution_count": 8,
      "outputs": [
        {
          "output_type": "stream",
          "name": "stdout",
          "text": [
            "original: [1, 2, 3]\n",
            "copy: [-10, 2, 3]\n"
          ]
        }
      ]
    },
    {
      "cell_type": "code",
      "source": [
        "# differemt ways for defining shallow copy of list\n",
        "\n",
        "copy1 = og.copy()\n",
        "copy2 = list(og)\n",
        "copy3 = og[:]"
      ],
      "metadata": {
        "id": "W_XQ8aj5PsRg"
      },
      "execution_count": 9,
      "outputs": []
    },
    {
      "cell_type": "code",
      "source": [
        "class Person:\n",
        "  def __init__(self, name, age):\n",
        "    self.name = name\n",
        "    self.age = age\n",
        "\n",
        "p1 = Person(\"Alex\", 18)\n",
        "p2 = cp.copy(p1)\n",
        "\n",
        "p2.age = 24     # p2 is shalow copy of p1\n",
        "print(f\"p1's age: {p1.age}\")\n",
        "print(f\"p2's age: {p2.age}\")"
      ],
      "metadata": {
        "colab": {
          "base_uri": "https://localhost:8080/"
        },
        "id": "WsXTKVIaS6dg",
        "outputId": "5eace562-5a4b-470c-ab0e-1fbb1a07e5e6"
      },
      "execution_count": 15,
      "outputs": [
        {
          "output_type": "stream",
          "name": "stdout",
          "text": [
            "p1's age: 18\n",
            "p2's age: 24\n"
          ]
        }
      ]
    },
    {
      "cell_type": "markdown",
      "source": [
        "### drawback"
      ],
      "metadata": {
        "id": "blsuQ3iHQnR5"
      }
    },
    {
      "cell_type": "code",
      "source": [
        "og = [[1, 2, 3], [4, 5, 6]]\n",
        "copy = cp.copy(og)\n",
        "copy[0][1] = -10    # shalow copy is only one level deep so this change will reflect in both og and copy lists\n",
        "print(f\"og: {og}\")\n",
        "print(f\"copy: {copy}\")"
      ],
      "metadata": {
        "colab": {
          "base_uri": "https://localhost:8080/"
        },
        "id": "73jnGD2fQW_4",
        "outputId": "1905509b-eb4c-4841-94a9-468575b00021"
      },
      "execution_count": 12,
      "outputs": [
        {
          "output_type": "stream",
          "name": "stdout",
          "text": [
            "og: [[1, -10, 3], [4, 5, 6]]\n",
            "copy: [[1, -10, 3], [4, 5, 6]]\n"
          ]
        }
      ]
    },
    {
      "cell_type": "code",
      "source": [
        "class Person:\n",
        "  def __init__(self, name, age):\n",
        "    self.name = name\n",
        "    self.age = age\n",
        "\n",
        "class Company:\n",
        "  def __init__(self, boss, employee):\n",
        "    self.boss = boss\n",
        "    self.employee = employee\n",
        "\n",
        "p1 = Person(\"Jane\", 33)\n",
        "p2 = Person(\"John\", 26)\n",
        "\n",
        "company = Company(p1, p2)\n",
        "company_clone = cp.copy(company)\n",
        "\n",
        "company_clone.boss.age = 36\n",
        "# shalow copy is only one level deep so this change will reflect in both og and copy lists\n",
        "\n",
        "print(company_clone.boss.age)\n",
        "print(company.boss.age)"
      ],
      "metadata": {
        "colab": {
          "base_uri": "https://localhost:8080/"
        },
        "id": "w7NzbHK3Z1vJ",
        "outputId": "be316786-d94d-497e-e087-6aa019bf7b82"
      },
      "execution_count": 16,
      "outputs": [
        {
          "output_type": "stream",
          "name": "stdout",
          "text": [
            "36\n",
            "36\n"
          ]
        }
      ]
    },
    {
      "cell_type": "markdown",
      "source": [
        "## Deep Copy\n",
        "\n",
        "> full independent copy\n",
        "\n"
      ],
      "metadata": {
        "id": "pVyL9eySROtu"
      }
    },
    {
      "cell_type": "code",
      "source": [
        "og = [[1, 2, 3], [4, 5, 6]]\n",
        "copy = cp.deepcopy(og)\n",
        "copy[0][1] = -10    # here, copy is fully independent from og, so the change in copy dosen't reflect in og\n",
        "print(f\"og: {og}\")\n",
        "print(f\"copy: {copy}\")"
      ],
      "metadata": {
        "colab": {
          "base_uri": "https://localhost:8080/"
        },
        "id": "l7wBPxiUQ1Bb",
        "outputId": "7d6738e0-a36f-43b9-cf32-d0f7d5866e0e"
      },
      "execution_count": 13,
      "outputs": [
        {
          "output_type": "stream",
          "name": "stdout",
          "text": [
            "og: [[1, 2, 3], [4, 5, 6]]\n",
            "copy: [[1, -10, 3], [4, 5, 6]]\n"
          ]
        }
      ]
    },
    {
      "cell_type": "code",
      "source": [
        "class Person:\n",
        "  def __init__(self, name, age):\n",
        "    self.name = name\n",
        "    self.age = age\n",
        "\n",
        "class Company:\n",
        "  def __init__(self, boss, employee):\n",
        "    self.boss = boss\n",
        "    self.employee = employee\n",
        "\n",
        "p1 = Person(\"Jane\", 33)\n",
        "p2 = Person(\"John\", 26)\n",
        "\n",
        "company = Company(p1, p2)\n",
        "company_clone = cp.deepcopy(company)\n",
        "\n",
        "company_clone.boss.age = 36\n",
        "# here, copy is fully independent from og company, so the change in clone dosen't reflect in og\n",
        "\n",
        "print(company_clone.boss.age)\n",
        "print(company.boss.age)"
      ],
      "metadata": {
        "colab": {
          "base_uri": "https://localhost:8080/"
        },
        "id": "Vtb7m5ZGbJBE",
        "outputId": "d4b1d35f-b930-4e4c-948a-26722a2b7dfb"
      },
      "execution_count": 17,
      "outputs": [
        {
          "output_type": "stream",
          "name": "stdout",
          "text": [
            "36\n",
            "33\n"
          ]
        }
      ]
    }
  ]
}