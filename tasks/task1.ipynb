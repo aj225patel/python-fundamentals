{
  "nbformat": 4,
  "nbformat_minor": 0,
  "metadata": {
    "colab": {
      "provenance": [],
      "authorship_tag": "ABX9TyO6CiKvfzW4Rvh7AEaG9cHY",
      "include_colab_link": true
    },
    "kernelspec": {
      "name": "python3",
      "display_name": "Python 3"
    },
    "language_info": {
      "name": "python"
    }
  },
  "cells": [
    {
      "cell_type": "markdown",
      "metadata": {
        "id": "view-in-github",
        "colab_type": "text"
      },
      "source": [
        "<a href=\"https://colab.research.google.com/github/aj225patel/python-fundamentals/blob/main/tasks/task1.ipynb\" target=\"_parent\"><img src=\"https://colab.research.google.com/assets/colab-badge.svg\" alt=\"Open In Colab\"/></a>"
      ]
    },
    {
      "cell_type": "markdown",
      "source": [
        "# **Task-1**"
      ],
      "metadata": {
        "id": "4FpTaU36HE9g"
      }
    },
    {
      "cell_type": "markdown",
      "source": [
        "## Decorator Task\n",
        "\n",
        "**Statement:** Implement a decorator which capitalize the output from any function"
      ],
      "metadata": {
        "id": "6DJN476osICl"
      }
    },
    {
      "cell_type": "code",
      "execution_count": null,
      "metadata": {
        "id": "81yzRKRjmBuP"
      },
      "outputs": [],
      "source": [
        "def capitalize_output(func):\n",
        "    def wrapper(*args, **kwargs):\n",
        "        result = func(*args, **kwargs)\n",
        "        if isinstance(result, str):\n",
        "            return result.upper()\n",
        "        return result\n",
        "    return wrapper"
      ]
    },
    {
      "cell_type": "code",
      "source": [
        "@capitalize_output\n",
        "def greet(name: str) -> str:\n",
        "  return f\"Hello {name}!!\"\n",
        "\n",
        "print(greet('Ajay'))"
      ],
      "metadata": {
        "colab": {
          "base_uri": "https://localhost:8080/"
        },
        "id": "qXjt59N5mT_d",
        "outputId": "3eb21a46-5224-498e-f53e-ded9a663cd48"
      },
      "execution_count": null,
      "outputs": [
        {
          "output_type": "stream",
          "name": "stdout",
          "text": [
            "HELLO AJAY!!\n"
          ]
        }
      ]
    },
    {
      "cell_type": "markdown",
      "source": [
        "## Generator Task\n",
        "**Satement:** Implement a generator which prints/processes the whole collection as a fixed sized chunks."
      ],
      "metadata": {
        "id": "qgKLnURfsMMn"
      }
    },
    {
      "cell_type": "code",
      "source": [
        "def my_gen(r):\n",
        "  collection_size = 10\n",
        "  global flag\n",
        "\n",
        "  for _ in range(collection_size):\n",
        "    try:\n",
        "      yield next(r)\n",
        "    except StopIteration:\n",
        "      flag = False\n",
        "      break\n",
        "\n",
        "if __name__ == \"__main__\":\n",
        "  my_range = (i for i in range(1, 105))\n",
        "  count = 0\n",
        "  flag = True\n",
        "\n",
        "  while flag:\n",
        "    gen = list(my_gen(my_range))\n",
        "    print(f\"{count}th chunk: {gen}\")\n",
        "    count += 1"
      ],
      "metadata": {
        "colab": {
          "base_uri": "https://localhost:8080/"
        },
        "id": "lAISijdDoJJm",
        "outputId": "1ff54362-f3f2-4dda-de2b-8c20f446fcd5"
      },
      "execution_count": 34,
      "outputs": [
        {
          "output_type": "stream",
          "name": "stdout",
          "text": [
            "0th chunk: [1, 2, 3, 4, 5, 6, 7, 8, 9, 10]\n",
            "1th chunk: [11, 12, 13, 14, 15, 16, 17, 18, 19, 20]\n",
            "2th chunk: [21, 22, 23, 24, 25, 26, 27, 28, 29, 30]\n",
            "3th chunk: [31, 32, 33, 34, 35, 36, 37, 38, 39, 40]\n",
            "4th chunk: [41, 42, 43, 44, 45, 46, 47, 48, 49, 50]\n",
            "5th chunk: [51, 52, 53, 54, 55, 56, 57, 58, 59, 60]\n",
            "6th chunk: [61, 62, 63, 64, 65, 66, 67, 68, 69, 70]\n",
            "7th chunk: [71, 72, 73, 74, 75, 76, 77, 78, 79, 80]\n",
            "8th chunk: [81, 82, 83, 84, 85, 86, 87, 88, 89, 90]\n",
            "9th chunk: [91, 92, 93, 94, 95, 96, 97, 98, 99, 100]\n",
            "10th chunk: [101, 102, 103, 104]\n"
          ]
        }
      ]
    },
    {
      "cell_type": "code",
      "source": [
        "def my_gen(r, collection_size=10):\n",
        "    for _ in range(collection_size):\n",
        "        try:\n",
        "            yield next(r)\n",
        "        except StopIteration:\n",
        "            return\n",
        "\n",
        "if __name__ == \"__main__\":\n",
        "    my_range = iter(range(1, 105))\n",
        "    count = 0\n",
        "\n",
        "    while True:\n",
        "        gen = list(my_gen(my_range))\n",
        "        if not gen:\n",
        "            break\n",
        "        print(f\"{count}th chunk: {gen}\")\n",
        "        count += 1"
      ],
      "metadata": {
        "colab": {
          "base_uri": "https://localhost:8080/"
        },
        "id": "vQWdKPuFtwfm",
        "outputId": "be445607-8998-40ee-e687-012e502ab8c0"
      },
      "execution_count": 35,
      "outputs": [
        {
          "output_type": "stream",
          "name": "stdout",
          "text": [
            "0th chunk: [1, 2, 3, 4, 5, 6, 7, 8, 9, 10]\n",
            "1th chunk: [11, 12, 13, 14, 15, 16, 17, 18, 19, 20]\n",
            "2th chunk: [21, 22, 23, 24, 25, 26, 27, 28, 29, 30]\n",
            "3th chunk: [31, 32, 33, 34, 35, 36, 37, 38, 39, 40]\n",
            "4th chunk: [41, 42, 43, 44, 45, 46, 47, 48, 49, 50]\n",
            "5th chunk: [51, 52, 53, 54, 55, 56, 57, 58, 59, 60]\n",
            "6th chunk: [61, 62, 63, 64, 65, 66, 67, 68, 69, 70]\n",
            "7th chunk: [71, 72, 73, 74, 75, 76, 77, 78, 79, 80]\n",
            "8th chunk: [81, 82, 83, 84, 85, 86, 87, 88, 89, 90]\n",
            "9th chunk: [91, 92, 93, 94, 95, 96, 97, 98, 99, 100]\n",
            "10th chunk: [101, 102, 103, 104]\n"
          ]
        }
      ]
    },
    {
      "cell_type": "code",
      "source": [
        "from itertools import islice\n",
        "\n",
        "# def my_gen(r, collection_size=10):\n",
        "#     try:\n",
        "#         while True:\n",
        "#             yield next(r)\n",
        "#     except StopIteration:\n",
        "#         return\n",
        "\n",
        "if __name__ == \"__main__\":\n",
        "    my_range = iter(range(1, 105))\n",
        "    count = 0\n",
        "\n",
        "    while True:\n",
        "        gen = list(islice(my_range, 10))\n",
        "        if not gen:\n",
        "            break\n",
        "        print(f\"{count}th chunk: {gen}\")\n",
        "        count += 1"
      ],
      "metadata": {
        "colab": {
          "base_uri": "https://localhost:8080/"
        },
        "id": "55aBQn2E1XeZ",
        "outputId": "e0ae25df-9237-445f-efec-8befd9a7b818"
      },
      "execution_count": 36,
      "outputs": [
        {
          "output_type": "stream",
          "name": "stdout",
          "text": [
            "0th chunk: [1, 2, 3, 4, 5, 6, 7, 8, 9, 10]\n",
            "1th chunk: [11, 12, 13, 14, 15, 16, 17, 18, 19, 20]\n",
            "2th chunk: [21, 22, 23, 24, 25, 26, 27, 28, 29, 30]\n",
            "3th chunk: [31, 32, 33, 34, 35, 36, 37, 38, 39, 40]\n",
            "4th chunk: [41, 42, 43, 44, 45, 46, 47, 48, 49, 50]\n",
            "5th chunk: [51, 52, 53, 54, 55, 56, 57, 58, 59, 60]\n",
            "6th chunk: [61, 62, 63, 64, 65, 66, 67, 68, 69, 70]\n",
            "7th chunk: [71, 72, 73, 74, 75, 76, 77, 78, 79, 80]\n",
            "8th chunk: [81, 82, 83, 84, 85, 86, 87, 88, 89, 90]\n",
            "9th chunk: [91, 92, 93, 94, 95, 96, 97, 98, 99, 100]\n",
            "10th chunk: [101, 102, 103, 104]\n"
          ]
        }
      ]
    },
    {
      "cell_type": "code",
      "source": [
        "islice?"
      ],
      "metadata": {
        "id": "dspnFdcT7Btw"
      },
      "execution_count": 37,
      "outputs": []
    }
  ]
}