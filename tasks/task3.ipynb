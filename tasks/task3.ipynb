{
  "nbformat": 4,
  "nbformat_minor": 0,
  "metadata": {
    "colab": {
      "provenance": [],
      "authorship_tag": "ABX9TyPlO5GikHdBKckWVRV5ATsn",
      "include_colab_link": true
    },
    "kernelspec": {
      "name": "python3",
      "display_name": "Python 3"
    },
    "language_info": {
      "name": "python"
    }
  },
  "cells": [
    {
      "cell_type": "markdown",
      "metadata": {
        "id": "view-in-github",
        "colab_type": "text"
      },
      "source": [
        "<a href=\"https://colab.research.google.com/github/aj225patel/python-fundamentals/blob/main/tasks/task3.ipynb\" target=\"_parent\"><img src=\"https://colab.research.google.com/assets/colab-badge.svg\" alt=\"Open In Colab\"/></a>"
      ]
    },
    {
      "cell_type": "markdown",
      "source": [
        "# **Task-3**\n",
        "\n",
        "> **Statement:** Make a real-world application of Asynchronous Programming in Python.\n",
        "\n"
      ],
      "metadata": {
        "id": "2NcPoKUGO4VD"
      }
    },
    {
      "cell_type": "markdown",
      "source": [
        "## Implementation\n",
        "\n",
        "Making a asynchronous scraping script in Python.\n",
        "\n",
        "**Source URL:** https://docs.python.org/3/tutorial/"
      ],
      "metadata": {
        "id": "zXDLDkQNQ_CT"
      }
    },
    {
      "cell_type": "code",
      "source": [
        "import asyncio\n",
        "import aiohttp\n",
        "from bs4 import BeautifulSoup\n",
        "import time"
      ],
      "metadata": {
        "id": "2P0KtMEeol8I"
      },
      "execution_count": 9,
      "outputs": []
    },
    {
      "cell_type": "code",
      "execution_count": 13,
      "metadata": {
        "colab": {
          "base_uri": "https://localhost:8080/"
        },
        "id": "UzZoxfspO1xg",
        "outputId": "ae04421c-6102-46c9-dbd1-77d3fabf8418"
      },
      "outputs": [
        {
          "output_type": "stream",
          "name": "stdout",
          "text": [
            "['https://docs.python.org/3/tutorial/interpreter.html', 'https://docs.python.org/3/tutorial/introduction.html', 'https://docs.python.org/3/tutorial/controlflow.html', 'https://docs.python.org/3/tutorial/datastructures.html', 'https://docs.python.org/3/tutorial/modules.html', 'https://docs.python.org/3/tutorial/inputoutput.html', 'https://docs.python.org/3/tutorial/errors.html']\n",
            "6.1. More on Modules¶\n",
            "\n",
            "6.2. Standard Modules¶\n",
            "\n",
            "6.3. The dir() Function¶\n",
            "\n",
            "6.4. Packages¶\n",
            "\n",
            "8.1. Syntax Errors¶\n",
            "\n",
            "8.2. Exceptions¶\n",
            "\n",
            "8.3. Handling Exceptions¶\n",
            "\n",
            "8.4. Raising Exceptions¶\n",
            "\n",
            "8.5. Exception Chaining¶\n",
            "\n",
            "8.6. User-defined Exceptions¶\n",
            "\n",
            "8.7. Defining Clean-up Actions¶\n",
            "\n",
            "8.8. Predefined Clean-up Actions¶\n",
            "\n",
            "8.9. Raising and Handling Multiple Unrelated Exceptions¶\n",
            "\n",
            "8.10. Enriching Exceptions with Notes¶\n",
            "\n",
            "4.1. if Statements¶\n",
            "\n",
            "4.2. for Statements¶\n",
            "\n",
            "4.3. The range() Function¶\n",
            "\n",
            "4.4. break and continue Statements, and else Clauses on Loops¶\n",
            "\n",
            "4.5. pass Statements¶\n",
            "\n",
            "4.6. match Statements¶\n",
            "\n",
            "4.7. Defining Functions¶\n",
            "\n",
            "4.8. More on Defining Functions¶\n",
            "\n",
            "4.9. Intermezzo: Coding Style¶\n",
            "\n",
            "7.1. Fancier Output Formatting¶\n",
            "\n",
            "7.2. Reading and Writing Files¶\n",
            "\n",
            "3.1. Using Python as a Calculator¶\n",
            "\n",
            "3.2. First Steps Towards Programming¶\n",
            "\n",
            "2.1. Invoking the Interpreter¶\n",
            "\n",
            "2.2. The Interpreter and Its Environment¶\n",
            "\n",
            "5.1. More on Lists¶\n",
            "\n",
            "5.2. The del statement¶\n",
            "\n",
            "5.3. Tuples and Sequences¶\n",
            "\n",
            "5.4. Sets¶\n",
            "\n",
            "5.5. Dictionaries¶\n",
            "\n",
            "5.6. Looping Techniques¶\n",
            "\n",
            "5.7. More on Conditions¶\n",
            "\n",
            "5.8. Comparing Sequences and Other Types¶\n",
            "\n",
            "Total Time: 0.8885445594787598 seconds\n"
          ]
        }
      ],
      "source": [
        "l = ['interpreter.html', 'introduction.html', 'controlflow.html', 'datastructures.html', 'modules.html', 'inputoutput.html', 'errors.html']\n",
        "\n",
        "url_list = [ f'https://docs.python.org/3/tutorial/{x}' for x in l]\n",
        "\n",
        "print(url_list)\n",
        "\n",
        "async def scrape_url(url: str) -> None:\n",
        "  async with aiohttp.ClientSession() as session:\n",
        "    async with session.get(url) as response:\n",
        "      html_content = await response.text()\n",
        "\n",
        "  soup = BeautifulSoup(html_content, \"html.parser\")\n",
        "  text_elements = soup.find_all('h2')\n",
        "\n",
        "  for element in text_elements:\n",
        "        text = element.text\n",
        "        print(text)\n",
        "        print()\n",
        "\n",
        "async def main():\n",
        "    tasks = [scrape_url(url) for url in url_list]\n",
        "    await asyncio.gather(*tasks)\n",
        "\n",
        "if __name__ == \"__main__\":\n",
        "    start = time.time()\n",
        "    await main()\n",
        "    print(f\"Total Time: {time.time() - start} seconds\")"
      ]
    },
    {
      "cell_type": "code",
      "source": [],
      "metadata": {
        "id": "Sq5rViXcoszO"
      },
      "execution_count": null,
      "outputs": []
    }
  ]
}