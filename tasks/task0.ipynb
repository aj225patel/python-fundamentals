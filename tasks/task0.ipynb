{
  "nbformat": 4,
  "nbformat_minor": 0,
  "metadata": {
    "colab": {
      "provenance": [],
      "authorship_tag": "ABX9TyOe1eEbkeOnwYD9G3JHrYk+",
      "include_colab_link": true
    },
    "kernelspec": {
      "name": "python3",
      "display_name": "Python 3"
    },
    "language_info": {
      "name": "python"
    }
  },
  "cells": [
    {
      "cell_type": "markdown",
      "metadata": {
        "id": "view-in-github",
        "colab_type": "text"
      },
      "source": [
        "<a href=\"https://colab.research.google.com/github/aj225patel/python-fundamentals/blob/main/tasks/task0.ipynb\" target=\"_parent\"><img src=\"https://colab.research.google.com/assets/colab-badge.svg\" alt=\"Open In Colab\"/></a>"
      ]
    },
    {
      "cell_type": "markdown",
      "source": [
        "# **Task-0**\n",
        "**Statement:** Implement OOPs concepts like Abstract class, method overloading, method overriding and access modifiers in Python"
      ],
      "metadata": {
        "id": "BsTXX6bYPuOE"
      }
    },
    {
      "cell_type": "code",
      "execution_count": null,
      "metadata": {
        "id": "buQKsbg8tBLN"
      },
      "outputs": [],
      "source": [
        "from abc import ABC, abstractmethod\n",
        "\n",
        "class Animal(ABC):\n",
        "    def __init__(self, name: str):\n",
        "        self.name = name\n",
        "\n",
        "    @abstractmethod\n",
        "    def walk(self):\n",
        "        pass\n",
        "\n",
        "    @abstractmethod\n",
        "    def make_sound(self):\n",
        "        pass"
      ]
    },
    {
      "cell_type": "code",
      "source": [
        "class Bird(Animal):\n",
        "    def __init__(self, name: str, can_fly = True):\n",
        "        super().__init__(name)\n",
        "        self.__can_fly = can_fly   # private attribute\n",
        "\n",
        "    # method overriding\n",
        "    def walk(self) -> None:\n",
        "        print(f\"{self.name} is walking.\")\n",
        "\n",
        "    # method overloading and overriding\n",
        "    def make_sound(self, times=1) -> None:\n",
        "        print(f\"{self.name} is making sound{'s' * (times > 1)}. Squawk{'!' * times}\")\n",
        "\n",
        "    # Overloaded method for flying\n",
        "    def fly(self) -> None:\n",
        "        if self.__can_fly:\n",
        "            print(f\"{self.name} is flying in the sky.\")\n",
        "        else:\n",
        "            print(f\"{self.name} cannot fly.\")"
      ],
      "metadata": {
        "id": "6H3DLf5otOG_"
      },
      "execution_count": null,
      "outputs": []
    },
    {
      "cell_type": "code",
      "source": [
        "# Example usage\n",
        "if __name__ == \"__main__\":\n",
        "    # Creating an instance of Bird\n",
        "    parrot = Bird(\"Parrot\")\n",
        "\n",
        "    # Calling overridden and overloaded methods\n",
        "    parrot.walk()\n",
        "    parrot.make_sound()\n",
        "    parrot.make_sound(3)\n",
        "    parrot.fly()\n",
        "\n",
        "    print(\"<======================>\")\n",
        "\n",
        "    panguine = Bird(\"Panguine\", False)   # Explicitly set can_fly to False\n",
        "\n",
        "    panguine.walk()\n",
        "    panguine.make_sound()\n",
        "    panguine.make_sound(10)\n",
        "    panguine.fly()"
      ],
      "metadata": {
        "colab": {
          "base_uri": "https://localhost:8080/"
        },
        "id": "lQGe0AW7tSym",
        "outputId": "35b740b9-181f-4b95-8253-2b30789280c7"
      },
      "execution_count": null,
      "outputs": [
        {
          "output_type": "stream",
          "name": "stdout",
          "text": [
            "Parrot is walking.\n",
            "Parrot is making sound. Squawk!\n",
            "Parrot is making sounds. Squawk!!!\n",
            "Parrot is flying in the sky.\n",
            "<======================>\n",
            "Panguine is walking.\n",
            "Panguine is making sound. Squawk!\n",
            "Panguine is making sounds. Squawk!!!!!!!!!!\n",
            "Panguine cannot fly.\n"
          ]
        }
      ]
    }
  ]
}