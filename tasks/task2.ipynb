{
  "nbformat": 4,
  "nbformat_minor": 0,
  "metadata": {
    "colab": {
      "provenance": [],
      "authorship_tag": "ABX9TyOlBGCM129TI/ucxhJNpyJh",
      "include_colab_link": true
    },
    "kernelspec": {
      "name": "python3",
      "display_name": "Python 3"
    },
    "language_info": {
      "name": "python"
    }
  },
  "cells": [
    {
      "cell_type": "markdown",
      "metadata": {
        "id": "view-in-github",
        "colab_type": "text"
      },
      "source": [
        "<a href=\"https://colab.research.google.com/github/aj225patel/python-fundamentals/blob/main/tasks/task2.ipynb\" target=\"_parent\"><img src=\"https://colab.research.google.com/assets/colab-badge.svg\" alt=\"Open In Colab\"/></a>"
      ]
    },
    {
      "cell_type": "markdown",
      "source": [
        "# **Task-2**\n",
        "\n",
        "**Statement:** Implement rabbit-turtle race using multithreading in Python"
      ],
      "metadata": {
        "id": "ROIHBDt-LrYi"
      }
    },
    {
      "cell_type": "code",
      "execution_count": 6,
      "metadata": {
        "colab": {
          "base_uri": "https://localhost:8080/"
        },
        "id": "YaNHrne3LovN",
        "outputId": "ea677e76-02eb-4dcb-8374-38d7417a4095"
      },
      "outputs": [
        {
          "output_type": "stream",
          "name": "stdout",
          "text": [
            "Turtle is at 2 meters.\n",
            "Turtle is at 4 meters.\n",
            "Rabbit is at 5 meters.\n",
            "Turtle is at 6 meters.\n",
            "Turtle is at 8 meters.\n",
            "Turtle is at 10 meters.\n",
            "Rabbit is at 10 meters.\n",
            "Turtle is at 12 meters.\n",
            "Turtle is at 14 meters.\n",
            "Turtle is at 16 meters.\n",
            "Rabbit is at 15 meters.\n",
            "Turtle is at 18 meters.\n",
            "Turtle is at 20 meters.\n",
            "Turtle is at 22 meters.\n",
            "Rabbit is at 20 meters.\n",
            "Turtle is at 24 meters.\n",
            "Turtle is at 26 meters.\n",
            "Turtle is at 28 meters.\n",
            "Rabbit is at 25 meters.\n",
            "Turtle is at 30 meters.\n",
            "Rabbit is at 30 meters.\n",
            "Turtle is at 32 meters.\n",
            "Turtle is at 34 meters.\n",
            "Rabbit is at 35 meters.\n",
            "Turtle is at 36 meters.\n",
            "Turtle is at 38 meters.\n",
            "Rabbit is at 40 meters.\n",
            "Turtle is at 40 meters.\n",
            "Turtle is at 42 meters.\n",
            "Rabbit is at 45 meters.\n",
            "Turtle is at 44 meters.\n",
            "Turtle is at 46 meters.\n",
            "Turtle is at 48 meters.\n",
            "Rabbit is at 50 meters.\n",
            "Turtle is at 50 meters.\n",
            "Turtle is at 52 meters.\n",
            "Turtle is at 54 meters.\n",
            "Rabbit is at 55 meters.\n",
            "Turtle is at 56 meters.\n",
            "Turtle is at 58 meters.\n",
            "Rabbit is at 60 meters.\n",
            "Turtle is at 60 meters.\n",
            "Turtle is at 62 meters.\n",
            "Rabbit is at 65 meters.\n",
            "Turtle is at 64 meters.\n",
            "Turtle is at 66 meters.\n",
            "Turtle is at 68 meters.\n",
            "Turtle is at 70 meters.\n",
            "Rabbit is at 70 meters.\n",
            "Turtle is at 72 meters.\n",
            "Turtle is at 74 meters.\n",
            "Turtle is at 76 meters.\n",
            "Turtle is at 78 meters.\n",
            "Rabbit is at 75 meters.\n",
            "Turtle is at 80 meters.\n",
            "Turtle is at 82 meters.\n",
            "Rabbit is at 80 meters.\n",
            "Turtle is at 84 meters.\n",
            "Rabbit is at 85 meters.\n",
            "Turtle is at 86 meters.\n",
            "Turtle is at 88 meters.\n",
            "Turtle is at 90 meters.\n",
            "Rabbit is at 90 meters.\n",
            "Turtle is at 92 meters.\n",
            "Turtle is at 94 meters.\n",
            "Turtle is at 96 meters.\n",
            "Rabbit is at 95 meters.\n",
            "Turtle is at 98 meters.\n",
            "Rabbit is at 100 meters.\n",
            "Rabbit wins the race!\n",
            "Turtle is at 100 meters.\n"
          ]
        }
      ],
      "source": [
        "import threading\n",
        "import time\n",
        "import random\n",
        "\n",
        "class Race:\n",
        "    def __init__(self):\n",
        "        self.winner = None\n",
        "        self.lock = threading.Lock()\n",
        "\n",
        "    def announce_winner(self, participant: str):\n",
        "        with self.lock:\n",
        "            if self.winner is None:\n",
        "                self.winner = participant\n",
        "                print(f\"{self.winner} wins the race!\")\n",
        "\n",
        "def rabbit_race(race: Race) -> None:\n",
        "    distance = 0\n",
        "    while distance < 100:\n",
        "        sleep_time = random.uniform(0.5, 1.0)  # simulate random speed\n",
        "        time.sleep(sleep_time)\n",
        "        distance += 5\n",
        "        print(f\"Rabbit is at {distance} meters.\")\n",
        "\n",
        "    race.announce_winner(\"Rabbit\")\n",
        "\n",
        "def turtle_race(race: Race) -> None:\n",
        "    distance = 0\n",
        "    while distance < 100:\n",
        "        sleep_time = random.uniform(0.1, 0.5)  # simulate random speed\n",
        "        time.sleep(sleep_time)\n",
        "        distance += 2\n",
        "        print(f\"Turtle is at {distance} meters.\")\n",
        "\n",
        "    race.announce_winner(\"Turtle\")\n",
        "\n",
        "def main():\n",
        "    race = Race()\n",
        "\n",
        "    rabbit_thread = threading.Thread(target=rabbit_race, args=(race,))\n",
        "    turtle_thread = threading.Thread(target=turtle_race, args=(race,))\n",
        "\n",
        "    rabbit_thread.start()\n",
        "    turtle_thread.start()\n",
        "\n",
        "    rabbit_thread.join()\n",
        "    turtle_thread.join()\n",
        "\n",
        "if __name__ == \"__main__\":\n",
        "    main()"
      ]
    }
  ]
}